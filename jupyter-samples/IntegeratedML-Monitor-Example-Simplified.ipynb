{
 "cells": [
  {
   "cell_type": "markdown",
   "metadata": {},
   "source": [
    "# Setup"
   ]
  },
  {
   "cell_type": "code",
   "execution_count": 1,
   "metadata": {},
   "outputs": [
    {
     "name": "stdout",
     "output_type": "stream",
     "text": [
      "Deleting previous model...\n",
      "Model deleted\n"
     ]
    }
   ],
   "source": [
    "### Libraries\n",
    "import pandas as pd\n",
    "from IPython.display import display\n",
    "### Python OBDC bridge\n",
    "import pyodbc \n",
    "### IRIS Python Native API\n",
    "import irisnative\n",
    "### others...\n",
    "import time\n",
    "\n",
    "### SQL Connection parameters\n",
    "dsn = 'IRIS IntegeratedML monitor'\n",
    "server = 'irisimlsvr'\n",
    "port = '51773'\n",
    "database = 'USER' \n",
    "username = 'SUPERUSER' \n",
    "password = 'SYS' \n",
    "cnxn = pyodbc.connect('DRIVER={InterSystems ODBC35};SERVER='+server+';PORT='+port+';DATABASE='+database+';UID='+username+';PWD='+ password)\n",
    "\n",
    "### charset stuffs...\n",
    "cnxn.setdecoding(pyodbc.SQL_CHAR, encoding='utf8')\n",
    "cnxn.setdecoding(pyodbc.SQL_WCHAR, encoding='utf8')\n",
    "cnxn.setencoding(encoding='utf8')\n",
    "\n",
    "### Get a SQL cursor\n",
    "cursor = cnxn.cursor()\n",
    "\n",
    "### Native API connection's parameters\n",
    "ip = \"irisimlsvr\"\n",
    "port = 51773\n",
    "namespace = \"USER\"\n",
    "username = \"SUPERUSER\"\n",
    "password = \"SYS\"\n",
    "\n",
    "### Create database connection and IRIS instance\n",
    "try:\n",
    "    nativeConn = irisnative.createConnection(ip, port, namespace, username, password)\n",
    "    dbnative = irisnative.createIris(nativeConn)\n",
    "except:\n",
    "    print('Seems like you can\\'t connect to IRIS... try to exit from any IRIS terminal or other license consumption session')\n",
    "\n",
    "### Clean previous runs\n",
    "df1 = pd.read_sql(\n",
    "    \"SELECT COUNT(*) AS ModelExists FROM INFORMATION_SCHEMA.ML_TRAINED_MODELS WHERE MODEL_NAME = 'AppointmentsPredection'\", \n",
    "    cnxn\n",
    ")\n",
    "if (df1['ModelExists'][0] > 0):\n",
    "    print('Deleting previous model...')\n",
    "    cursor.execute(\"DROP MODEL AppointmentsPredection\")\n",
    "    print('Model deleted')\n",
    "else:\n",
    "    print('No previous runs found')"
   ]
  },
  {
   "cell_type": "markdown",
   "metadata": {},
   "source": [
    "# ML model setup"
   ]
  },
  {
   "cell_type": "markdown",
   "metadata": {},
   "source": [
    "Let's create a model to predict appointments, using first 500 records to train it."
   ]
  },
  {
   "cell_type": "code",
   "execution_count": 2,
   "metadata": {},
   "outputs": [
    {
     "data": {
      "text/html": [
       "<div>\n",
       "<style scoped>\n",
       "    .dataframe tbody tr th:only-of-type {\n",
       "        vertical-align: middle;\n",
       "    }\n",
       "\n",
       "    .dataframe tbody tr th {\n",
       "        vertical-align: top;\n",
       "    }\n",
       "\n",
       "    .dataframe thead th {\n",
       "        text-align: right;\n",
       "    }\n",
       "</style>\n",
       "<table border=\"1\" class=\"dataframe\">\n",
       "  <thead>\n",
       "    <tr style=\"text-align: right;\">\n",
       "      <th></th>\n",
       "      <th>ID</th>\n",
       "      <th>Canal</th>\n",
       "      <th>CreacionDiaD</th>\n",
       "      <th>CreacionHoraD</th>\n",
       "      <th>CreacionMesD</th>\n",
       "      <th>Edad</th>\n",
       "      <th>Especialidad</th>\n",
       "      <th>Latencia</th>\n",
       "      <th>ReservaDiaD</th>\n",
       "      <th>ReservaHoraD</th>\n",
       "      <th>ReservaMesD</th>\n",
       "      <th>Sexo</th>\n",
       "      <th>Show</th>\n",
       "      <th>Tipo</th>\n",
       "    </tr>\n",
       "  </thead>\n",
       "  <tbody>\n",
       "    <tr>\n",
       "      <th>0</th>\n",
       "      <td>30662</td>\n",
       "      <td>3</td>\n",
       "      <td>1</td>\n",
       "      <td>12</td>\n",
       "      <td>1</td>\n",
       "      <td>46</td>\n",
       "      <td>22</td>\n",
       "      <td>45</td>\n",
       "      <td>4</td>\n",
       "      <td>10</td>\n",
       "      <td>3</td>\n",
       "      <td>2</td>\n",
       "      <td>True</td>\n",
       "      <td>1</td>\n",
       "    </tr>\n",
       "    <tr>\n",
       "      <th>1</th>\n",
       "      <td>30663</td>\n",
       "      <td>3</td>\n",
       "      <td>4</td>\n",
       "      <td>11</td>\n",
       "      <td>1</td>\n",
       "      <td>36</td>\n",
       "      <td>45</td>\n",
       "      <td>35</td>\n",
       "      <td>4</td>\n",
       "      <td>16</td>\n",
       "      <td>3</td>\n",
       "      <td>2</td>\n",
       "      <td>True</td>\n",
       "      <td>1</td>\n",
       "    </tr>\n",
       "    <tr>\n",
       "      <th>2</th>\n",
       "      <td>30664</td>\n",
       "      <td>3</td>\n",
       "      <td>3</td>\n",
       "      <td>13</td>\n",
       "      <td>1</td>\n",
       "      <td>14</td>\n",
       "      <td>21</td>\n",
       "      <td>36</td>\n",
       "      <td>4</td>\n",
       "      <td>15</td>\n",
       "      <td>3</td>\n",
       "      <td>1</td>\n",
       "      <td>True</td>\n",
       "      <td>1</td>\n",
       "    </tr>\n",
       "    <tr>\n",
       "      <th>3</th>\n",
       "      <td>30665</td>\n",
       "      <td>2</td>\n",
       "      <td>5</td>\n",
       "      <td>9</td>\n",
       "      <td>1</td>\n",
       "      <td>51</td>\n",
       "      <td>160</td>\n",
       "      <td>34</td>\n",
       "      <td>4</td>\n",
       "      <td>15</td>\n",
       "      <td>3</td>\n",
       "      <td>2</td>\n",
       "      <td>True</td>\n",
       "      <td>2</td>\n",
       "    </tr>\n",
       "    <tr>\n",
       "      <th>4</th>\n",
       "      <td>30666</td>\n",
       "      <td>2</td>\n",
       "      <td>4</td>\n",
       "      <td>14</td>\n",
       "      <td>12</td>\n",
       "      <td>47</td>\n",
       "      <td>74</td>\n",
       "      <td>70</td>\n",
       "      <td>4</td>\n",
       "      <td>9</td>\n",
       "      <td>3</td>\n",
       "      <td>1</td>\n",
       "      <td>True</td>\n",
       "      <td>1</td>\n",
       "    </tr>\n",
       "    <tr>\n",
       "      <th>...</th>\n",
       "      <td>...</td>\n",
       "      <td>...</td>\n",
       "      <td>...</td>\n",
       "      <td>...</td>\n",
       "      <td>...</td>\n",
       "      <td>...</td>\n",
       "      <td>...</td>\n",
       "      <td>...</td>\n",
       "      <td>...</td>\n",
       "      <td>...</td>\n",
       "      <td>...</td>\n",
       "      <td>...</td>\n",
       "      <td>...</td>\n",
       "      <td>...</td>\n",
       "    </tr>\n",
       "    <tr>\n",
       "      <th>61209</th>\n",
       "      <td>61210</td>\n",
       "      <td>1</td>\n",
       "      <td>2</td>\n",
       "      <td>10</td>\n",
       "      <td>4</td>\n",
       "      <td>2</td>\n",
       "      <td>50</td>\n",
       "      <td>11</td>\n",
       "      <td>6</td>\n",
       "      <td>10</td>\n",
       "      <td>4</td>\n",
       "      <td>1</td>\n",
       "      <td>False</td>\n",
       "      <td>1</td>\n",
       "    </tr>\n",
       "    <tr>\n",
       "      <th>61210</th>\n",
       "      <td>61211</td>\n",
       "      <td>3</td>\n",
       "      <td>6</td>\n",
       "      <td>22</td>\n",
       "      <td>3</td>\n",
       "      <td>21</td>\n",
       "      <td>18</td>\n",
       "      <td>35</td>\n",
       "      <td>6</td>\n",
       "      <td>10</td>\n",
       "      <td>4</td>\n",
       "      <td>2</td>\n",
       "      <td>False</td>\n",
       "      <td>1</td>\n",
       "    </tr>\n",
       "    <tr>\n",
       "      <th>61211</th>\n",
       "      <td>61212</td>\n",
       "      <td>3</td>\n",
       "      <td>1</td>\n",
       "      <td>1</td>\n",
       "      <td>2</td>\n",
       "      <td>2</td>\n",
       "      <td>50</td>\n",
       "      <td>68</td>\n",
       "      <td>6</td>\n",
       "      <td>10</td>\n",
       "      <td>4</td>\n",
       "      <td>1</td>\n",
       "      <td>False</td>\n",
       "      <td>1</td>\n",
       "    </tr>\n",
       "    <tr>\n",
       "      <th>61212</th>\n",
       "      <td>61213</td>\n",
       "      <td>1</td>\n",
       "      <td>2</td>\n",
       "      <td>10</td>\n",
       "      <td>3</td>\n",
       "      <td>33</td>\n",
       "      <td>71</td>\n",
       "      <td>53</td>\n",
       "      <td>6</td>\n",
       "      <td>10</td>\n",
       "      <td>4</td>\n",
       "      <td>2</td>\n",
       "      <td>False</td>\n",
       "      <td>1</td>\n",
       "    </tr>\n",
       "    <tr>\n",
       "      <th>61213</th>\n",
       "      <td>61214</td>\n",
       "      <td>3</td>\n",
       "      <td>4</td>\n",
       "      <td>23</td>\n",
       "      <td>3</td>\n",
       "      <td>4</td>\n",
       "      <td>39</td>\n",
       "      <td>51</td>\n",
       "      <td>6</td>\n",
       "      <td>11</td>\n",
       "      <td>4</td>\n",
       "      <td>1</td>\n",
       "      <td>False</td>\n",
       "      <td>1</td>\n",
       "    </tr>\n",
       "  </tbody>\n",
       "</table>\n",
       "<p>61214 rows × 14 columns</p>\n",
       "</div>"
      ],
      "text/plain": [
       "          ID  Canal  CreacionDiaD  CreacionHoraD  CreacionMesD  Edad  \\\n",
       "0      30662      3             1             12             1    46   \n",
       "1      30663      3             4             11             1    36   \n",
       "2      30664      3             3             13             1    14   \n",
       "3      30665      2             5              9             1    51   \n",
       "4      30666      2             4             14            12    47   \n",
       "...      ...    ...           ...            ...           ...   ...   \n",
       "61209  61210      1             2             10             4     2   \n",
       "61210  61211      3             6             22             3    21   \n",
       "61211  61212      3             1              1             2     2   \n",
       "61212  61213      1             2             10             3    33   \n",
       "61213  61214      3             4             23             3     4   \n",
       "\n",
       "       Especialidad  Latencia  ReservaDiaD  ReservaHoraD  ReservaMesD  Sexo  \\\n",
       "0                22        45            4            10            3     2   \n",
       "1                45        35            4            16            3     2   \n",
       "2                21        36            4            15            3     1   \n",
       "3               160        34            4            15            3     2   \n",
       "4                74        70            4             9            3     1   \n",
       "...             ...       ...          ...           ...          ...   ...   \n",
       "61209            50        11            6            10            4     1   \n",
       "61210            18        35            6            10            4     2   \n",
       "61211            50        68            6            10            4     1   \n",
       "61212            71        53            6            10            4     2   \n",
       "61213            39        51            6            11            4     1   \n",
       "\n",
       "        Show  Tipo  \n",
       "0       True     1  \n",
       "1       True     1  \n",
       "2       True     1  \n",
       "3       True     2  \n",
       "4       True     1  \n",
       "...      ...   ...  \n",
       "61209  False     1  \n",
       "61210  False     1  \n",
       "61211  False     1  \n",
       "61212  False     1  \n",
       "61213  False     1  \n",
       "\n",
       "[61214 rows x 14 columns]"
      ]
     },
     "metadata": {},
     "output_type": "display_data"
    }
   ],
   "source": [
    "### Display dataset table\n",
    "df1 = pd.read_sql(\n",
    "    \"SELECT * FROM MedicalAppointments\", \n",
    "    cnxn\n",
    ")\n",
    "display(df1)"
   ]
  },
  {
   "cell_type": "code",
   "execution_count": 3,
   "metadata": {},
   "outputs": [
    {
     "name": "stdout",
     "output_type": "stream",
     "text": [
      "Training model (this could take a while)...\n",
      "Model trained in 23.2741060256958s\n"
     ]
    }
   ],
   "source": [
    "### Create a model for predicting patient's appointments misses\n",
    "### Note: seed parameter it's to force reproducibility\n",
    "cursor.execute(\n",
    "    \"CREATE MODEL AppointmentsPredection PREDICTING (Show) FROM MedicalAppointments USING {\\\"seed\\\": 3}\"\n",
    ")\n",
    "print('Training model (this could take a while)...')\n",
    "start = time.time()\n",
    "cursor.execute(\n",
    "    \"TRAIN MODEL AppointmentsPredection FROM MedicalAppointments WHERE ID <= 500 USING {\\\"seed\\\": 3}\"\n",
    ")\n",
    "cnxn.commit()\n",
    "print('Model trained in %ss' % (time.time() - start))"
   ]
  },
  {
   "cell_type": "code",
   "execution_count": 4,
   "metadata": {},
   "outputs": [
    {
     "data": {
      "text/html": [
       "<div>\n",
       "<style scoped>\n",
       "    .dataframe tbody tr th:only-of-type {\n",
       "        vertical-align: middle;\n",
       "    }\n",
       "\n",
       "    .dataframe tbody tr th {\n",
       "        vertical-align: top;\n",
       "    }\n",
       "\n",
       "    .dataframe thead th {\n",
       "        text-align: right;\n",
       "    }\n",
       "</style>\n",
       "<table border=\"1\" class=\"dataframe\">\n",
       "  <thead>\n",
       "    <tr style=\"text-align: right;\">\n",
       "      <th></th>\n",
       "      <th>MODEL_NAME</th>\n",
       "      <th>TRAINED_MODEL_NAME</th>\n",
       "      <th>PROVIDER</th>\n",
       "      <th>TRAINED_TIMESTAMP</th>\n",
       "      <th>MODEL_TYPE</th>\n",
       "      <th>MODEL_INFO</th>\n",
       "    </tr>\n",
       "  </thead>\n",
       "  <tbody>\n",
       "    <tr>\n",
       "      <th>0</th>\n",
       "      <td>AppointmentsPredection</td>\n",
       "      <td>AppointmentsPredection2</td>\n",
       "      <td>AutoML</td>\n",
       "      <td>2020-09-25 19:10:58.873</td>\n",
       "      <td>classification</td>\n",
       "      <td>ModelType:Logistic Regression, Package:sklearn...</td>\n",
       "    </tr>\n",
       "  </tbody>\n",
       "</table>\n",
       "</div>"
      ],
      "text/plain": [
       "               MODEL_NAME       TRAINED_MODEL_NAME PROVIDER  \\\n",
       "0  AppointmentsPredection  AppointmentsPredection2   AutoML   \n",
       "\n",
       "        TRAINED_TIMESTAMP      MODEL_TYPE  \\\n",
       "0 2020-09-25 19:10:58.873  classification   \n",
       "\n",
       "                                          MODEL_INFO  \n",
       "0  ModelType:Logistic Regression, Package:sklearn...  "
      ]
     },
     "metadata": {},
     "output_type": "display_data"
    }
   ],
   "source": [
    "### Display model information\n",
    "cursor.execute(\"SELECT * FROM INFORMATION_SCHEMA.ML_TRAINED_MODELS\")\n",
    "df1 = pd.read_sql(\"SELECT * FROM INFORMATION_SCHEMA.ML_TRAINED_MODELS\", cnxn)\n",
    "display(df1)"
   ]
  },
  {
   "cell_type": "code",
   "execution_count": 5,
   "metadata": {},
   "outputs": [
    {
     "data": {
      "text/html": [
       "<div>\n",
       "<style scoped>\n",
       "    .dataframe tbody tr th:only-of-type {\n",
       "        vertical-align: middle;\n",
       "    }\n",
       "\n",
       "    .dataframe tbody tr th {\n",
       "        vertical-align: top;\n",
       "    }\n",
       "\n",
       "    .dataframe thead th {\n",
       "        text-align: right;\n",
       "    }\n",
       "</style>\n",
       "<table border=\"1\" class=\"dataframe\">\n",
       "  <thead>\n",
       "    <tr style=\"text-align: right;\">\n",
       "      <th></th>\n",
       "      <th>Predicted</th>\n",
       "      <th>Show</th>\n",
       "    </tr>\n",
       "  </thead>\n",
       "  <tbody>\n",
       "    <tr>\n",
       "      <th>0</th>\n",
       "      <td>0</td>\n",
       "      <td>False</td>\n",
       "    </tr>\n",
       "    <tr>\n",
       "      <th>1</th>\n",
       "      <td>0</td>\n",
       "      <td>False</td>\n",
       "    </tr>\n",
       "    <tr>\n",
       "      <th>2</th>\n",
       "      <td>0</td>\n",
       "      <td>False</td>\n",
       "    </tr>\n",
       "    <tr>\n",
       "      <th>3</th>\n",
       "      <td>0</td>\n",
       "      <td>False</td>\n",
       "    </tr>\n",
       "    <tr>\n",
       "      <th>4</th>\n",
       "      <td>0</td>\n",
       "      <td>False</td>\n",
       "    </tr>\n",
       "    <tr>\n",
       "      <th>...</th>\n",
       "      <td>...</td>\n",
       "      <td>...</td>\n",
       "    </tr>\n",
       "    <tr>\n",
       "      <th>495</th>\n",
       "      <td>1</td>\n",
       "      <td>True</td>\n",
       "    </tr>\n",
       "    <tr>\n",
       "      <th>496</th>\n",
       "      <td>0</td>\n",
       "      <td>True</td>\n",
       "    </tr>\n",
       "    <tr>\n",
       "      <th>497</th>\n",
       "      <td>1</td>\n",
       "      <td>True</td>\n",
       "    </tr>\n",
       "    <tr>\n",
       "      <th>498</th>\n",
       "      <td>1</td>\n",
       "      <td>True</td>\n",
       "    </tr>\n",
       "    <tr>\n",
       "      <th>499</th>\n",
       "      <td>1</td>\n",
       "      <td>True</td>\n",
       "    </tr>\n",
       "  </tbody>\n",
       "</table>\n",
       "<p>500 rows × 2 columns</p>\n",
       "</div>"
      ],
      "text/plain": [
       "    Predicted   Show\n",
       "0           0  False\n",
       "1           0  False\n",
       "2           0  False\n",
       "3           0  False\n",
       "4           0  False\n",
       "..        ...    ...\n",
       "495         1   True\n",
       "496         0   True\n",
       "497         1   True\n",
       "498         1   True\n",
       "499         1   True\n",
       "\n",
       "[500 rows x 2 columns]"
      ]
     },
     "metadata": {},
     "output_type": "display_data"
    }
   ],
   "source": [
    "### Display prediction and real patient's appointments presence\n",
    "df1 = pd.read_sql(\n",
    "    \"SELECT PREDICT(AppointmentsPredection) As Predicted, Show FROM MedicalAppointments WHERE ID <= 500\" , \n",
    "    cnxn\n",
    ")\n",
    "display(df1)"
   ]
  },
  {
   "cell_type": "markdown",
   "metadata": {},
   "source": [
    "# Model monitoring"
   ]
  },
  {
   "cell_type": "markdown",
   "metadata": {},
   "source": [
    "Now let's validate our model using 100 new records regargind train model, i.e., the 600 first records. Note that again the parameter seed was used in order to guarantee reproducibility."
   ]
  },
  {
   "cell_type": "code",
   "execution_count": 6,
   "metadata": {},
   "outputs": [
    {
     "data": {
      "text/html": [
       "<div>\n",
       "<style scoped>\n",
       "    .dataframe tbody tr th:only-of-type {\n",
       "        vertical-align: middle;\n",
       "    }\n",
       "\n",
       "    .dataframe tbody tr th {\n",
       "        vertical-align: top;\n",
       "    }\n",
       "\n",
       "    .dataframe thead th {\n",
       "        text-align: right;\n",
       "    }\n",
       "</style>\n",
       "<table border=\"1\" class=\"dataframe\">\n",
       "  <thead>\n",
       "    <tr style=\"text-align: right;\">\n",
       "      <th>METRIC_NAME</th>\n",
       "      <th>Accuracy</th>\n",
       "      <th>F-Measure</th>\n",
       "      <th>Precision</th>\n",
       "      <th>Recall</th>\n",
       "    </tr>\n",
       "    <tr>\n",
       "      <th>VALIDATION_RUN_NAME</th>\n",
       "      <th></th>\n",
       "      <th></th>\n",
       "      <th></th>\n",
       "      <th></th>\n",
       "    </tr>\n",
       "  </thead>\n",
       "  <tbody>\n",
       "    <tr>\n",
       "      <th>AppointmentsPredection21</th>\n",
       "      <td>0.9</td>\n",
       "      <td>0.94</td>\n",
       "      <td>0.98</td>\n",
       "      <td>0.91</td>\n",
       "    </tr>\n",
       "  </tbody>\n",
       "</table>\n",
       "</div>"
      ],
      "text/plain": [
       "METRIC_NAME               Accuracy  F-Measure  Precision  Recall\n",
       "VALIDATION_RUN_NAME                                             \n",
       "AppointmentsPredection21       0.9       0.94       0.98    0.91"
      ]
     },
     "metadata": {},
     "output_type": "display_data"
    }
   ],
   "source": [
    "### Model validation\n",
    "cursor.execute(\n",
    "    \"VALIDATE MODEL AppointmentsPredection FROM MedicalAppointments WHERE ID < 600 USING {\\\"seed\\\": 3}\"\n",
    ")\n",
    "df5 = pd.read_sql(\n",
    "    \"SELECT * FROM INFORMATION_SCHEMA.ML_VALIDATION_METRICS WHERE MODEL_NAME = 'AppointmentsPredection'\" , \n",
    "    cnxn\n",
    ")\n",
    "df6 = df5.pivot(index='VALIDATION_RUN_NAME', columns='METRIC_NAME', values='METRIC_VALUE')\n",
    "display(df6)"
   ]
  },
  {
   "cell_type": "markdown",
   "metadata": {},
   "source": [
    "As we can see, model's accuracy is about 90%."
   ]
  },
  {
   "cell_type": "markdown",
   "metadata": {},
   "source": [
    "MyMetric.IntegratedMLModelsValidation application monitor class let you to access such metrics. Thus it's possible to IRIS' ^%SYSMONMGR monitor utility being aware about your ML models perfomance."
   ]
  },
  {
   "cell_type": "markdown",
   "metadata": {},
   "source": [
    "Results can be seen by System Monitor default CSP interface: http://localhost:8092/csp/user/MyMetric.Sample.IntegratedMLModelsValidation.cls"
   ]
  },
  {
   "cell_type": "markdown",
   "metadata": {},
   "source": [
    "With such functionality, someone could setup an alert into ^%SYSMONMGR monitor utility, checking model's performance metrics against thresholds. This way, IntegeratedML applications performance issues could be quickly notified."
   ]
  },
  {
   "cell_type": "markdown",
   "metadata": {},
   "source": [
    "# Simulating a performance issue"
   ]
  },
  {
   "cell_type": "markdown",
   "metadata": {},
   "source": [
    "Let's re-validate the model, but this turn, using first 800 records and see how this affects to model's performance metrics."
   ]
  },
  {
   "cell_type": "code",
   "execution_count": 7,
   "metadata": {},
   "outputs": [
    {
     "data": {
      "text/plain": [
       "<pyodbc.Cursor at 0x7ffa9afff6c0>"
      ]
     },
     "execution_count": 7,
     "metadata": {},
     "output_type": "execute_result"
    }
   ],
   "source": [
    "### Model validation\n",
    "cursor.execute(\n",
    "    \"VALIDATE MODEL AppointmentsPredection FROM MedicalAppointments WHERE ID < 800 USING {\\\"seed\\\": 3}\"\n",
    ")"
   ]
  },
  {
   "cell_type": "markdown",
   "metadata": {},
   "source": [
    "Now model's accuracy had descreased to about 87%.  "
   ]
  },
  {
   "cell_type": "markdown",
   "metadata": {},
   "source": [
    "Let's say that for you business rule, performances less than 90% are unacceptable. If you had previously setup an alert to notify your team when model's performance is less than 90%, such team could be quickly notified and take care about this issue."
   ]
  },
  {
   "cell_type": "markdown",
   "metadata": {},
   "source": [
    "Please refer to the System Monitor [documentation](https://irisdocs.intersystems.com/irislatest/csp/docbook/Doc.View.cls?KEY=GCM_healthmon) to see how setup such alert."
   ]
  },
  {
   "cell_type": "markdown",
   "metadata": {},
   "source": [
    "# Responding to notification of performance issue"
   ]
  },
  {
   "cell_type": "markdown",
   "metadata": {},
   "source": [
    "An approach to deal with such performance issue could be simply retrain the model. However, there isn't a rule and each case demands properly analysis."
   ]
  },
  {
   "cell_type": "code",
   "execution_count": 8,
   "metadata": {},
   "outputs": [
    {
     "name": "stdout",
     "output_type": "stream",
     "text": [
      "Training model (this could take a while)...\n",
      "Model trained in 13.664696455001831s\n"
     ]
    },
    {
     "data": {
      "text/plain": [
       "<pyodbc.Cursor at 0x7ffa9afff6c0>"
      ]
     },
     "execution_count": 8,
     "metadata": {},
     "output_type": "execute_result"
    }
   ],
   "source": [
    "### Retrain model using first 600 records\n",
    "print('Training model (this could take a while)...')\n",
    "start = time.time()\n",
    "cursor.execute(\n",
    "    \"TRAIN MODEL AppointmentsPredection FROM MedicalAppointments WHERE ID <= 600 USING {\\\"seed\\\": 3}\"\n",
    ")\n",
    "cnxn.commit()\n",
    "print('Model trained in %ss' % (time.time() - start))\n",
    "\n",
    "### Model validation\n",
    "cursor.execute(\n",
    "    \"VALIDATE MODEL AppointmentsPredection FROM MedicalAppointments WHERE ID <= 800 USING {\\\"seed\\\": 3}\"\n",
    ")"
   ]
  },
  {
   "cell_type": "markdown",
   "metadata": {},
   "source": [
    "# Teardown"
   ]
  },
  {
   "cell_type": "code",
   "execution_count": 9,
   "metadata": {},
   "outputs": [],
   "source": [
    "### Close the database and native API connections\n",
    "nativeConn.close()\n",
    "cnxn.close()"
   ]
  },
  {
   "cell_type": "code",
   "execution_count": null,
   "metadata": {},
   "outputs": [],
   "source": []
  }
 ],
 "metadata": {
  "kernelspec": {
   "display_name": "Python 3",
   "language": "python",
   "name": "python3"
  },
  "language_info": {
   "codemirror_mode": {
    "name": "ipython",
    "version": 3
   },
   "file_extension": ".py",
   "mimetype": "text/x-python",
   "name": "python",
   "nbconvert_exporter": "python",
   "pygments_lexer": "ipython3",
   "version": "3.6.9"
  }
 },
 "nbformat": 4,
 "nbformat_minor": 2
}
