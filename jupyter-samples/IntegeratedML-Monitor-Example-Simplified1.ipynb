{
 "cells": [
  {
   "cell_type": "markdown",
   "metadata": {},
   "source": [
    "# Setup"
   ]
  },
  {
   "cell_type": "code",
   "execution_count": 53,
   "metadata": {},
   "outputs": [
    {
     "ename": "Error",
     "evalue": "('HY000', '[HY000] [unixODBC][Iris ODBC][State : HY000][Native Code 417]\\n[libirisodbcu35.so]\\nAccess Denied (417) (SQLDriverConnect)')",
     "output_type": "error",
     "traceback": [
      "\u001b[0;31m---------------------------------------------------------------------------\u001b[0m",
      "\u001b[0;31mError\u001b[0m                                     Traceback (most recent call last)",
      "\u001b[0;32m<ipython-input-53-7d8f8a76ed87>\u001b[0m in \u001b[0;36m<module>\u001b[0;34m\u001b[0m\n\u001b[1;32m     14\u001b[0m \u001b[0musername\u001b[0m \u001b[0;34m=\u001b[0m \u001b[0;34m'SUPERUSER'\u001b[0m\u001b[0;34m\u001b[0m\u001b[0;34m\u001b[0m\u001b[0m\n\u001b[1;32m     15\u001b[0m \u001b[0mpassword\u001b[0m \u001b[0;34m=\u001b[0m \u001b[0;34m'SYS'\u001b[0m\u001b[0;34m\u001b[0m\u001b[0;34m\u001b[0m\u001b[0m\n\u001b[0;32m---> 16\u001b[0;31m \u001b[0mcnxn\u001b[0m \u001b[0;34m=\u001b[0m \u001b[0mpyodbc\u001b[0m\u001b[0;34m.\u001b[0m\u001b[0mconnect\u001b[0m\u001b[0;34m(\u001b[0m\u001b[0;34m'DRIVER={InterSystems ODBC35};SERVER='\u001b[0m\u001b[0;34m+\u001b[0m\u001b[0mserver\u001b[0m\u001b[0;34m+\u001b[0m\u001b[0;34m';PORT='\u001b[0m\u001b[0;34m+\u001b[0m\u001b[0mport\u001b[0m\u001b[0;34m+\u001b[0m\u001b[0;34m';DATABASE='\u001b[0m\u001b[0;34m+\u001b[0m\u001b[0mdatabase\u001b[0m\u001b[0;34m+\u001b[0m\u001b[0;34m';UID='\u001b[0m\u001b[0;34m+\u001b[0m\u001b[0musername\u001b[0m\u001b[0;34m+\u001b[0m\u001b[0;34m';PWD='\u001b[0m\u001b[0;34m+\u001b[0m \u001b[0mpassword\u001b[0m\u001b[0;34m)\u001b[0m\u001b[0;34m\u001b[0m\u001b[0;34m\u001b[0m\u001b[0m\n\u001b[0m\u001b[1;32m     17\u001b[0m \u001b[0;34m\u001b[0m\u001b[0m\n\u001b[1;32m     18\u001b[0m \u001b[0;31m### charset stuffs...\u001b[0m\u001b[0;34m\u001b[0m\u001b[0;34m\u001b[0m\u001b[0;34m\u001b[0m\u001b[0m\n",
      "\u001b[0;31mError\u001b[0m: ('HY000', '[HY000] [unixODBC][Iris ODBC][State : HY000][Native Code 417]\\n[libirisodbcu35.so]\\nAccess Denied (417) (SQLDriverConnect)')"
     ]
    }
   ],
   "source": [
    "### Libraries\n",
    "import pandas as pd\n",
    "from IPython.display import display\n",
    "### Python OBDC bridge\n",
    "import pyodbc \n",
    "### IRIS Python Native API\n",
    "import irisnative\n",
    "\n",
    "### SQL Connection parameters\n",
    "dsn = 'IRIS IntegeratedML monitor'\n",
    "server = 'irisimlsvr'\n",
    "port = '51773'\n",
    "database = 'USER' \n",
    "username = 'SUPERUSER' \n",
    "password = 'SYS' \n",
    "cnxn = pyodbc.connect('DRIVER={InterSystems ODBC35};SERVER='+server+';PORT='+port+';DATABASE='+database+';UID='+username+';PWD='+ password)\n",
    "\n",
    "### charset stuffs...\n",
    "cnxn.setdecoding(pyodbc.SQL_CHAR, encoding='utf8')\n",
    "cnxn.setdecoding(pyodbc.SQL_WCHAR, encoding='utf8')\n",
    "cnxn.setencoding(encoding='utf8')\n",
    "\n",
    "### Get a SQL cursor\n",
    "cursor = cnxn.cursor()\n",
    "\n",
    "### Native API connection's parameters\n",
    "ip = \"irisimlsvr\"\n",
    "port = 51773\n",
    "namespace = \"USER\"\n",
    "username = \"SUPERUSER\"\n",
    "password = \"SYS\"\n",
    "\n",
    "### Create database connection and IRIS instance\n",
    "try:\n",
    "    nativeConn = irisnative.createConnection(ip, port, namespace, username, password)\n",
    "    dbnative = irisnative.createIris(nativeConn)\n",
    "except:\n",
    "    print('Seems like you can\\'t connect to IRIS... try to exit from any IRIS terminal or other license consumption session')\n",
    "\n",
    "### Clean previous runs\n",
    "df1 = pd.read_sql(\n",
    "    \"SELECT COUNT(*) AS ModelExists FROM INFORMATION_SCHEMA.ML_TRAINED_MODELS WHERE MODEL_NAME = 'AppointmentsPredection'\", \n",
    "    cnxn\n",
    ")\n",
    "if (df1['ModelExists'][0] > 0):\n",
    "    print('Deleting previous model...')\n",
    "    cursor.execute(\"DROP MODEL AppointmentsPredection\")\n",
    "    print('Model deleted')\n",
    "else:\n",
    "    print('No previous runs found')"
   ]
  },
  {
   "cell_type": "markdown",
   "metadata": {},
   "source": [
    "# ML model setup"
   ]
  },
  {
   "cell_type": "markdown",
   "metadata": {},
   "source": [
    "Let's create a model to predict appointments, using first 500 records to train it."
   ]
  },
  {
   "cell_type": "code",
   "execution_count": 54,
   "metadata": {},
   "outputs": [
    {
     "data": {
      "text/html": [
       "<div>\n",
       "<style scoped>\n",
       "    .dataframe tbody tr th:only-of-type {\n",
       "        vertical-align: middle;\n",
       "    }\n",
       "\n",
       "    .dataframe tbody tr th {\n",
       "        vertical-align: top;\n",
       "    }\n",
       "\n",
       "    .dataframe thead th {\n",
       "        text-align: right;\n",
       "    }\n",
       "</style>\n",
       "<table border=\"1\" class=\"dataframe\">\n",
       "  <thead>\n",
       "    <tr style=\"text-align: right;\">\n",
       "      <th></th>\n",
       "      <th>ID</th>\n",
       "      <th>Canal</th>\n",
       "      <th>CreacionDiaD</th>\n",
       "      <th>CreacionHoraD</th>\n",
       "      <th>CreacionMesD</th>\n",
       "      <th>Edad</th>\n",
       "      <th>Especialidad</th>\n",
       "      <th>Latencia</th>\n",
       "      <th>ReservaDiaD</th>\n",
       "      <th>ReservaHoraD</th>\n",
       "      <th>ReservaMesD</th>\n",
       "      <th>Sexo</th>\n",
       "      <th>Show</th>\n",
       "      <th>Tipo</th>\n",
       "    </tr>\n",
       "  </thead>\n",
       "  <tbody>\n",
       "    <tr>\n",
       "      <th>0</th>\n",
       "      <td>1</td>\n",
       "      <td>1</td>\n",
       "      <td>4</td>\n",
       "      <td>14</td>\n",
       "      <td>12</td>\n",
       "      <td>66</td>\n",
       "      <td>76</td>\n",
       "      <td>18</td>\n",
       "      <td>1</td>\n",
       "      <td>18</td>\n",
       "      <td>1</td>\n",
       "      <td>1</td>\n",
       "      <td>False</td>\n",
       "      <td>1</td>\n",
       "    </tr>\n",
       "    <tr>\n",
       "      <th>1</th>\n",
       "      <td>2</td>\n",
       "      <td>1</td>\n",
       "      <td>5</td>\n",
       "      <td>11</td>\n",
       "      <td>12</td>\n",
       "      <td>66</td>\n",
       "      <td>76</td>\n",
       "      <td>17</td>\n",
       "      <td>1</td>\n",
       "      <td>19</td>\n",
       "      <td>1</td>\n",
       "      <td>1</td>\n",
       "      <td>False</td>\n",
       "      <td>1</td>\n",
       "    </tr>\n",
       "    <tr>\n",
       "      <th>2</th>\n",
       "      <td>3</td>\n",
       "      <td>3</td>\n",
       "      <td>2</td>\n",
       "      <td>10</td>\n",
       "      <td>12</td>\n",
       "      <td>35</td>\n",
       "      <td>18</td>\n",
       "      <td>20</td>\n",
       "      <td>1</td>\n",
       "      <td>15</td>\n",
       "      <td>1</td>\n",
       "      <td>1</td>\n",
       "      <td>False</td>\n",
       "      <td>1</td>\n",
       "    </tr>\n",
       "    <tr>\n",
       "      <th>3</th>\n",
       "      <td>4</td>\n",
       "      <td>1</td>\n",
       "      <td>2</td>\n",
       "      <td>8</td>\n",
       "      <td>11</td>\n",
       "      <td>44</td>\n",
       "      <td>51</td>\n",
       "      <td>34</td>\n",
       "      <td>1</td>\n",
       "      <td>19</td>\n",
       "      <td>1</td>\n",
       "      <td>2</td>\n",
       "      <td>False</td>\n",
       "      <td>1</td>\n",
       "    </tr>\n",
       "    <tr>\n",
       "      <th>4</th>\n",
       "      <td>5</td>\n",
       "      <td>1</td>\n",
       "      <td>5</td>\n",
       "      <td>10</td>\n",
       "      <td>12</td>\n",
       "      <td>72</td>\n",
       "      <td>76</td>\n",
       "      <td>17</td>\n",
       "      <td>1</td>\n",
       "      <td>12</td>\n",
       "      <td>1</td>\n",
       "      <td>2</td>\n",
       "      <td>False</td>\n",
       "      <td>1</td>\n",
       "    </tr>\n",
       "    <tr>\n",
       "      <th>...</th>\n",
       "      <td>...</td>\n",
       "      <td>...</td>\n",
       "      <td>...</td>\n",
       "      <td>...</td>\n",
       "      <td>...</td>\n",
       "      <td>...</td>\n",
       "      <td>...</td>\n",
       "      <td>...</td>\n",
       "      <td>...</td>\n",
       "      <td>...</td>\n",
       "      <td>...</td>\n",
       "      <td>...</td>\n",
       "      <td>...</td>\n",
       "      <td>...</td>\n",
       "    </tr>\n",
       "    <tr>\n",
       "      <th>61209</th>\n",
       "      <td>30657</td>\n",
       "      <td>3</td>\n",
       "      <td>1</td>\n",
       "      <td>12</td>\n",
       "      <td>1</td>\n",
       "      <td>4</td>\n",
       "      <td>23</td>\n",
       "      <td>45</td>\n",
       "      <td>4</td>\n",
       "      <td>14</td>\n",
       "      <td>3</td>\n",
       "      <td>1</td>\n",
       "      <td>True</td>\n",
       "      <td>1</td>\n",
       "    </tr>\n",
       "    <tr>\n",
       "      <th>61210</th>\n",
       "      <td>30658</td>\n",
       "      <td>1</td>\n",
       "      <td>5</td>\n",
       "      <td>16</td>\n",
       "      <td>1</td>\n",
       "      <td>2</td>\n",
       "      <td>39</td>\n",
       "      <td>34</td>\n",
       "      <td>4</td>\n",
       "      <td>8</td>\n",
       "      <td>3</td>\n",
       "      <td>1</td>\n",
       "      <td>True</td>\n",
       "      <td>1</td>\n",
       "    </tr>\n",
       "    <tr>\n",
       "      <th>61211</th>\n",
       "      <td>30659</td>\n",
       "      <td>1</td>\n",
       "      <td>4</td>\n",
       "      <td>10</td>\n",
       "      <td>1</td>\n",
       "      <td>43</td>\n",
       "      <td>51</td>\n",
       "      <td>35</td>\n",
       "      <td>4</td>\n",
       "      <td>9</td>\n",
       "      <td>3</td>\n",
       "      <td>1</td>\n",
       "      <td>True</td>\n",
       "      <td>1</td>\n",
       "    </tr>\n",
       "    <tr>\n",
       "      <th>61212</th>\n",
       "      <td>30660</td>\n",
       "      <td>3</td>\n",
       "      <td>7</td>\n",
       "      <td>18</td>\n",
       "      <td>1</td>\n",
       "      <td>38</td>\n",
       "      <td>18</td>\n",
       "      <td>46</td>\n",
       "      <td>4</td>\n",
       "      <td>8</td>\n",
       "      <td>3</td>\n",
       "      <td>1</td>\n",
       "      <td>True</td>\n",
       "      <td>1</td>\n",
       "    </tr>\n",
       "    <tr>\n",
       "      <th>61213</th>\n",
       "      <td>30661</td>\n",
       "      <td>1</td>\n",
       "      <td>4</td>\n",
       "      <td>10</td>\n",
       "      <td>1</td>\n",
       "      <td>8</td>\n",
       "      <td>21</td>\n",
       "      <td>35</td>\n",
       "      <td>4</td>\n",
       "      <td>19</td>\n",
       "      <td>3</td>\n",
       "      <td>1</td>\n",
       "      <td>True</td>\n",
       "      <td>1</td>\n",
       "    </tr>\n",
       "  </tbody>\n",
       "</table>\n",
       "<p>61214 rows × 14 columns</p>\n",
       "</div>"
      ],
      "text/plain": [
       "          ID  Canal  CreacionDiaD  CreacionHoraD  CreacionMesD  Edad  \\\n",
       "0          1      1             4             14            12    66   \n",
       "1          2      1             5             11            12    66   \n",
       "2          3      3             2             10            12    35   \n",
       "3          4      1             2              8            11    44   \n",
       "4          5      1             5             10            12    72   \n",
       "...      ...    ...           ...            ...           ...   ...   \n",
       "61209  30657      3             1             12             1     4   \n",
       "61210  30658      1             5             16             1     2   \n",
       "61211  30659      1             4             10             1    43   \n",
       "61212  30660      3             7             18             1    38   \n",
       "61213  30661      1             4             10             1     8   \n",
       "\n",
       "       Especialidad  Latencia  ReservaDiaD  ReservaHoraD  ReservaMesD  Sexo  \\\n",
       "0                76        18            1            18            1     1   \n",
       "1                76        17            1            19            1     1   \n",
       "2                18        20            1            15            1     1   \n",
       "3                51        34            1            19            1     2   \n",
       "4                76        17            1            12            1     2   \n",
       "...             ...       ...          ...           ...          ...   ...   \n",
       "61209            23        45            4            14            3     1   \n",
       "61210            39        34            4             8            3     1   \n",
       "61211            51        35            4             9            3     1   \n",
       "61212            18        46            4             8            3     1   \n",
       "61213            21        35            4            19            3     1   \n",
       "\n",
       "        Show  Tipo  \n",
       "0      False     1  \n",
       "1      False     1  \n",
       "2      False     1  \n",
       "3      False     1  \n",
       "4      False     1  \n",
       "...      ...   ...  \n",
       "61209   True     1  \n",
       "61210   True     1  \n",
       "61211   True     1  \n",
       "61212   True     1  \n",
       "61213   True     1  \n",
       "\n",
       "[61214 rows x 14 columns]"
      ]
     },
     "metadata": {},
     "output_type": "display_data"
    }
   ],
   "source": [
    "### Display dataset table\n",
    "df1 = pd.read_sql(\"SELECT * FROM MedicalAppointments\", cnxn)\n",
    "display(df1)"
   ]
  },
  {
   "cell_type": "code",
   "execution_count": 55,
   "metadata": {},
   "outputs": [
    {
     "ename": "Error",
     "evalue": "('HY000', \"[HY000] [Iris ODBC][State : HY000][Native Code 180]\\n[libirisodbcu35.so]\\n[SQLCODE: <-180>:<Model name not unique>]\\r\\n[Location: <ServerLoop>]\\r\\n[%msg: <Model name 'AppointmentsPredection' is not unique>] (180) (SQLExecDirectW)\")",
     "output_type": "error",
     "traceback": [
      "\u001b[0;31m---------------------------------------------------------------------------\u001b[0m",
      "\u001b[0;31mError\u001b[0m                                     Traceback (most recent call last)",
      "\u001b[0;32m<ipython-input-55-3fd9daf95c8a>\u001b[0m in \u001b[0;36m<module>\u001b[0;34m\u001b[0m\n\u001b[1;32m      1\u001b[0m \u001b[0;31m### Create a model for predicting patient's appointments misses\u001b[0m\u001b[0;34m\u001b[0m\u001b[0;34m\u001b[0m\u001b[0;34m\u001b[0m\u001b[0m\n\u001b[1;32m      2\u001b[0m \u001b[0;31m### Note: seed parameter it's to force reproducibility\u001b[0m\u001b[0;34m\u001b[0m\u001b[0;34m\u001b[0m\u001b[0;34m\u001b[0m\u001b[0m\n\u001b[0;32m----> 3\u001b[0;31m \u001b[0mcursor\u001b[0m\u001b[0;34m.\u001b[0m\u001b[0mexecute\u001b[0m\u001b[0;34m(\u001b[0m\u001b[0;34m\"CREATE MODEL AppointmentsPredection PREDICTING (Show) FROM MedicalAppointments USING {\\\"seed\\\": 3}\"\u001b[0m\u001b[0;34m)\u001b[0m\u001b[0;34m\u001b[0m\u001b[0;34m\u001b[0m\u001b[0m\n\u001b[0m\u001b[1;32m      4\u001b[0m \u001b[0mprint\u001b[0m\u001b[0;34m(\u001b[0m\u001b[0;34m'Training model (this could take a while)...'\u001b[0m\u001b[0;34m)\u001b[0m\u001b[0;34m\u001b[0m\u001b[0;34m\u001b[0m\u001b[0m\n\u001b[1;32m      5\u001b[0m \u001b[0mcursor\u001b[0m\u001b[0;34m.\u001b[0m\u001b[0mexecute\u001b[0m\u001b[0;34m(\u001b[0m\u001b[0;34m\"TRAIN MODEL AppointmentsPredection FROM MedicalAppointments WHERE ID <= 500 USING {\\\"seed\\\": 3}\"\u001b[0m\u001b[0;34m)\u001b[0m\u001b[0;34m\u001b[0m\u001b[0;34m\u001b[0m\u001b[0m\n",
      "\u001b[0;31mError\u001b[0m: ('HY000', \"[HY000] [Iris ODBC][State : HY000][Native Code 180]\\n[libirisodbcu35.so]\\n[SQLCODE: <-180>:<Model name not unique>]\\r\\n[Location: <ServerLoop>]\\r\\n[%msg: <Model name 'AppointmentsPredection' is not unique>] (180) (SQLExecDirectW)\")"
     ]
    }
   ],
   "source": [
    "### Create a model for predicting patient's appointments misses\n",
    "### Note: seed parameter it's to force reproducibility\n",
    "cursor.execute(\"CREATE MODEL AppointmentsPredection PREDICTING (Show) FROM MedicalAppointments USING {\\\"seed\\\": 3}\")\n",
    "print('Training model (this could take a while)...')\n",
    "cursor.execute(\"TRAIN MODEL AppointmentsPredection FROM MedicalAppointments WHERE ID <= 500 USING {\\\"seed\\\": 3}\")\n",
    "print('Model trained')\n",
    "cnxn.commit()"
   ]
  },
  {
   "cell_type": "code",
   "execution_count": 56,
   "metadata": {},
   "outputs": [
    {
     "data": {
      "text/html": [
       "<div>\n",
       "<style scoped>\n",
       "    .dataframe tbody tr th:only-of-type {\n",
       "        vertical-align: middle;\n",
       "    }\n",
       "\n",
       "    .dataframe tbody tr th {\n",
       "        vertical-align: top;\n",
       "    }\n",
       "\n",
       "    .dataframe thead th {\n",
       "        text-align: right;\n",
       "    }\n",
       "</style>\n",
       "<table border=\"1\" class=\"dataframe\">\n",
       "  <thead>\n",
       "    <tr style=\"text-align: right;\">\n",
       "      <th></th>\n",
       "      <th>MODEL_NAME</th>\n",
       "      <th>TRAINED_MODEL_NAME</th>\n",
       "      <th>PROVIDER</th>\n",
       "      <th>TRAINED_TIMESTAMP</th>\n",
       "      <th>MODEL_TYPE</th>\n",
       "      <th>MODEL_INFO</th>\n",
       "    </tr>\n",
       "  </thead>\n",
       "  <tbody>\n",
       "    <tr>\n",
       "      <th>0</th>\n",
       "      <td>AppointmentsPredection</td>\n",
       "      <td>AppointmentsPredection2</td>\n",
       "      <td>AutoML</td>\n",
       "      <td>2020-07-22 02:52:44.611</td>\n",
       "      <td>classification</td>\n",
       "      <td>ModelType:Logistic Regression, Package:sklearn...</td>\n",
       "    </tr>\n",
       "    <tr>\n",
       "      <th>1</th>\n",
       "      <td>AppointmentsPredection</td>\n",
       "      <td>AppointmentsPredection4</td>\n",
       "      <td>AutoML</td>\n",
       "      <td>2020-07-22 02:53:56.076</td>\n",
       "      <td>classification</td>\n",
       "      <td>ModelType:TensorFlow Neural Network, Package:T...</td>\n",
       "    </tr>\n",
       "  </tbody>\n",
       "</table>\n",
       "</div>"
      ],
      "text/plain": [
       "               MODEL_NAME       TRAINED_MODEL_NAME PROVIDER  \\\n",
       "0  AppointmentsPredection  AppointmentsPredection2   AutoML   \n",
       "1  AppointmentsPredection  AppointmentsPredection4   AutoML   \n",
       "\n",
       "        TRAINED_TIMESTAMP      MODEL_TYPE  \\\n",
       "0 2020-07-22 02:52:44.611  classification   \n",
       "1 2020-07-22 02:53:56.076  classification   \n",
       "\n",
       "                                          MODEL_INFO  \n",
       "0  ModelType:Logistic Regression, Package:sklearn...  \n",
       "1  ModelType:TensorFlow Neural Network, Package:T...  "
      ]
     },
     "metadata": {},
     "output_type": "display_data"
    }
   ],
   "source": [
    "### Display model information\n",
    "cursor.execute(\"SELECT * FROM INFORMATION_SCHEMA.ML_TRAINED_MODELS\")\n",
    "df1 = pd.read_sql(\"SELECT * FROM INFORMATION_SCHEMA.ML_TRAINED_MODELS\", cnxn)\n",
    "display(df1)"
   ]
  },
  {
   "cell_type": "code",
   "execution_count": 57,
   "metadata": {},
   "outputs": [
    {
     "data": {
      "text/html": [
       "<div>\n",
       "<style scoped>\n",
       "    .dataframe tbody tr th:only-of-type {\n",
       "        vertical-align: middle;\n",
       "    }\n",
       "\n",
       "    .dataframe tbody tr th {\n",
       "        vertical-align: top;\n",
       "    }\n",
       "\n",
       "    .dataframe thead th {\n",
       "        text-align: right;\n",
       "    }\n",
       "</style>\n",
       "<table border=\"1\" class=\"dataframe\">\n",
       "  <thead>\n",
       "    <tr style=\"text-align: right;\">\n",
       "      <th></th>\n",
       "      <th>Predicted</th>\n",
       "      <th>Show</th>\n",
       "    </tr>\n",
       "  </thead>\n",
       "  <tbody>\n",
       "    <tr>\n",
       "      <th>0</th>\n",
       "      <td>0</td>\n",
       "      <td>False</td>\n",
       "    </tr>\n",
       "    <tr>\n",
       "      <th>1</th>\n",
       "      <td>0</td>\n",
       "      <td>False</td>\n",
       "    </tr>\n",
       "    <tr>\n",
       "      <th>2</th>\n",
       "      <td>0</td>\n",
       "      <td>False</td>\n",
       "    </tr>\n",
       "    <tr>\n",
       "      <th>3</th>\n",
       "      <td>0</td>\n",
       "      <td>False</td>\n",
       "    </tr>\n",
       "    <tr>\n",
       "      <th>4</th>\n",
       "      <td>0</td>\n",
       "      <td>False</td>\n",
       "    </tr>\n",
       "    <tr>\n",
       "      <th>...</th>\n",
       "      <td>...</td>\n",
       "      <td>...</td>\n",
       "    </tr>\n",
       "    <tr>\n",
       "      <th>495</th>\n",
       "      <td>1</td>\n",
       "      <td>True</td>\n",
       "    </tr>\n",
       "    <tr>\n",
       "      <th>496</th>\n",
       "      <td>1</td>\n",
       "      <td>True</td>\n",
       "    </tr>\n",
       "    <tr>\n",
       "      <th>497</th>\n",
       "      <td>1</td>\n",
       "      <td>True</td>\n",
       "    </tr>\n",
       "    <tr>\n",
       "      <th>498</th>\n",
       "      <td>1</td>\n",
       "      <td>True</td>\n",
       "    </tr>\n",
       "    <tr>\n",
       "      <th>499</th>\n",
       "      <td>1</td>\n",
       "      <td>True</td>\n",
       "    </tr>\n",
       "  </tbody>\n",
       "</table>\n",
       "<p>500 rows × 2 columns</p>\n",
       "</div>"
      ],
      "text/plain": [
       "    Predicted   Show\n",
       "0           0  False\n",
       "1           0  False\n",
       "2           0  False\n",
       "3           0  False\n",
       "4           0  False\n",
       "..        ...    ...\n",
       "495         1   True\n",
       "496         1   True\n",
       "497         1   True\n",
       "498         1   True\n",
       "499         1   True\n",
       "\n",
       "[500 rows x 2 columns]"
      ]
     },
     "metadata": {},
     "output_type": "display_data"
    }
   ],
   "source": [
    "### Display prediction and real patient's appointments presence\n",
    "df1 = pd.read_sql(\"SELECT PREDICT(AppointmentsPredection) As Predicted, Show FROM MedicalAppointments WHERE ID <= 500\", cnxn)\n",
    "display(df1)"
   ]
  },
  {
   "cell_type": "markdown",
   "metadata": {},
   "source": [
    "# Model monitoring"
   ]
  },
  {
   "cell_type": "markdown",
   "metadata": {},
   "source": [
    "Now let's validate our model using 100 new records regargind train model, i.e., the 600 first records. Note that again the parameter seed was used in order to guarantee reproducibility."
   ]
  },
  {
   "cell_type": "code",
   "execution_count": 58,
   "metadata": {},
   "outputs": [
    {
     "data": {
      "text/html": [
       "<div>\n",
       "<style scoped>\n",
       "    .dataframe tbody tr th:only-of-type {\n",
       "        vertical-align: middle;\n",
       "    }\n",
       "\n",
       "    .dataframe tbody tr th {\n",
       "        vertical-align: top;\n",
       "    }\n",
       "\n",
       "    .dataframe thead th {\n",
       "        text-align: right;\n",
       "    }\n",
       "</style>\n",
       "<table border=\"1\" class=\"dataframe\">\n",
       "  <thead>\n",
       "    <tr style=\"text-align: right;\">\n",
       "      <th>METRIC_NAME</th>\n",
       "      <th>Accuracy</th>\n",
       "      <th>F-Measure</th>\n",
       "      <th>Precision</th>\n",
       "      <th>Recall</th>\n",
       "    </tr>\n",
       "    <tr>\n",
       "      <th>VALIDATION_RUN_NAME</th>\n",
       "      <th></th>\n",
       "      <th></th>\n",
       "      <th></th>\n",
       "      <th></th>\n",
       "    </tr>\n",
       "  </thead>\n",
       "  <tbody>\n",
       "    <tr>\n",
       "      <th>AppointmentsPredection21</th>\n",
       "      <td>0.90</td>\n",
       "      <td>0.94</td>\n",
       "      <td>0.98</td>\n",
       "      <td>0.91</td>\n",
       "    </tr>\n",
       "    <tr>\n",
       "      <th>AppointmentsPredection22</th>\n",
       "      <td>0.87</td>\n",
       "      <td>0.93</td>\n",
       "      <td>0.98</td>\n",
       "      <td>0.88</td>\n",
       "    </tr>\n",
       "    <tr>\n",
       "      <th>AppointmentsPredection41</th>\n",
       "      <td>0.96</td>\n",
       "      <td>0.98</td>\n",
       "      <td>0.97</td>\n",
       "      <td>0.99</td>\n",
       "    </tr>\n",
       "    <tr>\n",
       "      <th>AppointmentsPredection42</th>\n",
       "      <td>0.96</td>\n",
       "      <td>0.98</td>\n",
       "      <td>0.97</td>\n",
       "      <td>0.99</td>\n",
       "    </tr>\n",
       "  </tbody>\n",
       "</table>\n",
       "</div>"
      ],
      "text/plain": [
       "METRIC_NAME               Accuracy  F-Measure  Precision  Recall\n",
       "VALIDATION_RUN_NAME                                             \n",
       "AppointmentsPredection21      0.90       0.94       0.98    0.91\n",
       "AppointmentsPredection22      0.87       0.93       0.98    0.88\n",
       "AppointmentsPredection41      0.96       0.98       0.97    0.99\n",
       "AppointmentsPredection42      0.96       0.98       0.97    0.99"
      ]
     },
     "metadata": {},
     "output_type": "display_data"
    }
   ],
   "source": [
    "### Model validation\n",
    "cursor.execute(\"VALIDATE MODEL AppointmentsPredection FROM MedicalAppointments WHERE ID < 600 USING {\\\"seed\\\": 3}\")\n",
    "df5 = pd.read_sql(\"SELECT * FROM INFORMATION_SCHEMA.ML_VALIDATION_METRICS WHERE MODEL_NAME = 'AppointmentsPredection'\", cnxn)\n",
    "df6 = df5.pivot(index='VALIDATION_RUN_NAME', columns='METRIC_NAME', values='METRIC_VALUE')\n",
    "display(df6)"
   ]
  },
  {
   "cell_type": "markdown",
   "metadata": {},
   "source": [
    "As we can see, model's accuracy is about 90%."
   ]
  },
  {
   "cell_type": "markdown",
   "metadata": {},
   "source": [
    "MyMetric.IntegratedMLModelsValidation application monitor class let you to access such metrics. Thus it's possible to IRIS' ^%SYSMONMGR monitor utility being aware about your ML models perfomance."
   ]
  },
  {
   "cell_type": "code",
   "execution_count": 61,
   "metadata": {},
   "outputs": [
    {
     "name": "stdout",
     "output_type": "stream",
     "text": [
      "MyMetric - IntegratedMLModelsValidation   AppointmentsPredection4 [2020-07-22 03:00:48]   Serial value of object or the object identity:W\u0001MyMetric||IntegratedMLModelsValidation||AppointmentsPredection4 [2020-07-22 03:00:48].\u0001MyMetric.Sample.IntegratedMLModelsValidation\r\n",
      "   Accuracy:                   .96\r\n",
      "   F-Measure:                  .98\r\n",
      "   Precision:                  .97\r\n",
      "   Recall:                     .99\r\n",
      "   Name of the model definition:APPOINTMENTSPREDECTION\r\n",
      "   Name of the trained model being validated:AppointmentsPredection4 [2020-07-22 03:00:48]\r\n",
      "   Validation error (if encountered):1\r\n",
      "\r\n",
      "\n"
     ]
    }
   ],
   "source": [
    "### Get the last validation parameter for each IntegeratedML model\n",
    "print(dbnative.classMethodValue(\"MyMetric.Install\", \"GetSamples\", \"MyMetric.IntegratedMLModelsValidation\"))"
   ]
  },
  {
   "cell_type": "markdown",
   "metadata": {},
   "source": [
    "Results could also be seen by CSP interface: http://localhost:8092/csp/user/MyMetric.Sample.IntegratedMLModelsValidation.cls"
   ]
  },
  {
   "cell_type": "markdown",
   "metadata": {},
   "source": [
    "With such functionality, someone could setup an alert into ^%SYSMONMGR monitor utility, checking model's performance metrics against thresholds. This way, IntegeratedML applications performance issues could be quickly notified."
   ]
  },
  {
   "cell_type": "markdown",
   "metadata": {},
   "source": [
    "# Simulating a performance issue"
   ]
  },
  {
   "cell_type": "markdown",
   "metadata": {},
   "source": [
    "Let's re-validate the model, but this turn, using first 800 records and see how this affects to model's performance metrics."
   ]
  },
  {
   "cell_type": "code",
   "execution_count": 62,
   "metadata": {},
   "outputs": [
    {
     "data": {
      "text/plain": [
       "<pyodbc.Cursor at 0x7f116a407e40>"
      ]
     },
     "execution_count": 62,
     "metadata": {},
     "output_type": "execute_result"
    }
   ],
   "source": [
    "### Model validation\n",
    "cursor.execute(\"VALIDATE MODEL AppointmentsPredection FROM MedicalAppointments WHERE ID < 800 USING {\\\"seed\\\": 3}\")"
   ]
  },
  {
   "cell_type": "code",
   "execution_count": 63,
   "metadata": {},
   "outputs": [
    {
     "name": "stdout",
     "output_type": "stream",
     "text": [
      "MyMetric - IntegratedMLModelsValidation   AppointmentsPredection4 [2020-07-22 03:01:07]   Serial value of object or the object identity:W\u0001MyMetric||IntegratedMLModelsValidation||AppointmentsPredection4 [2020-07-22 03:01:07].\u0001MyMetric.Sample.IntegratedMLModelsValidation\r\n",
      "   Accuracy:                   .96\r\n",
      "   F-Measure:                  .98\r\n",
      "   Precision:                  .97\r\n",
      "   Recall:                     .99\r\n",
      "   Name of the model definition:APPOINTMENTSPREDECTION\r\n",
      "   Name of the trained model being validated:AppointmentsPredection4 [2020-07-22 03:01:07]\r\n",
      "   Validation error (if encountered):1\r\n",
      "\r\n",
      "\n"
     ]
    }
   ],
   "source": [
    "### Get the last validation parameter for each IntegeratedML model\n",
    "print(dbnative.classMethodValue(\"MyMetric.Install\", \"GetSamples\", \"MyMetric.IntegratedMLModelsValidation\"))"
   ]
  },
  {
   "cell_type": "markdown",
   "metadata": {},
   "source": [
    "Now model's accuracy had descreased to about 87%.  "
   ]
  },
  {
   "cell_type": "markdown",
   "metadata": {},
   "source": [
    "Let's say that for you business rule, performances less than 90% are unacceptable. If you had previously setup an alert to notify your team when model's performance is less than 90%, such team could be quickly notified and take care about this issue."
   ]
  },
  {
   "cell_type": "code",
   "execution_count": 51,
   "metadata": {},
   "outputs": [
    {
     "name": "stdout",
     "output_type": "stream",
     "text": [
      "Training model (this could take a while)...\n",
      "Model trained\n"
     ]
    },
    {
     "data": {
      "text/plain": [
       "<pyodbc.Cursor at 0x7f116a407e40>"
      ]
     },
     "execution_count": 51,
     "metadata": {},
     "output_type": "execute_result"
    }
   ],
   "source": [
    "### Retrain model using first 600 records\n",
    "print('Training model (this could take a while)...')\n",
    "cursor.execute(\"TRAIN MODEL AppointmentsPredection FROM MedicalAppointments WHERE ID <= 600 USING {\\\"seed\\\": 3}\")\n",
    "print('Model trained')\n",
    "cnxn.commit()\n",
    "\n",
    "### Model validation\n",
    "cursor.execute(\"VALIDATE MODEL AppointmentsPredection FROM MedicalAppointments WHERE ID <= 800 USING {\\\"seed\\\": 3}\")"
   ]
  },
  {
   "cell_type": "code",
   "execution_count": 52,
   "metadata": {},
   "outputs": [],
   "source": [
    "### Get the last validation parameter for each IntegeratedML model\n",
    "print(dbnative.classMethodValue(\"MyMetric.Install\", \"GetSamples\", \"MyMetric.IntegratedMLModelsValidation\"))"
   ]
  },
  {
   "cell_type": "markdown",
   "metadata": {},
   "source": [
    "# Teardown"
   ]
  },
  {
   "cell_type": "code",
   "execution_count": 64,
   "metadata": {},
   "outputs": [],
   "source": [
    "### Close the database\n",
    "cnxn.close()"
   ]
  },
  {
   "cell_type": "code",
   "execution_count": 66,
   "metadata": {},
   "outputs": [],
   "source": [
    "nativeConn.close()"
   ]
  },
  {
   "cell_type": "code",
   "execution_count": null,
   "metadata": {},
   "outputs": [],
   "source": []
  }
 ],
 "metadata": {
  "kernelspec": {
   "display_name": "Python 3",
   "language": "python",
   "name": "python3"
  },
  "language_info": {
   "codemirror_mode": {
    "name": "ipython",
    "version": 3
   },
   "file_extension": ".py",
   "mimetype": "text/x-python",
   "name": "python",
   "nbconvert_exporter": "python",
   "pygments_lexer": "ipython3",
   "version": "3.6.9"
  }
 },
 "nbformat": 4,
 "nbformat_minor": 2
}
