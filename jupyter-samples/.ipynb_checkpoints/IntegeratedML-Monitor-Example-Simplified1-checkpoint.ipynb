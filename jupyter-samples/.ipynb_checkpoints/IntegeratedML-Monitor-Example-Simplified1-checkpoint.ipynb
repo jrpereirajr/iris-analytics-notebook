{
 "cells": [
  {
   "cell_type": "markdown",
   "metadata": {},
   "source": [
    "# Setup"
   ]
  },
  {
   "cell_type": "code",
   "execution_count": null,
   "metadata": {},
   "outputs": [],
   "source": [
    "### Libraries\n",
    "import pandas as pd\n",
    "from IPython.display import display\n",
    "### Python OBDC bridge\n",
    "import pyodbc \n",
    "### IRIS Python Native API\n",
    "import irisnative"
   ]
  },
  {
   "cell_type": "code",
   "execution_count": null,
   "metadata": {},
   "outputs": [],
   "source": [
    "### SQL Connection parameters\n",
    "dsn = 'IRIS IntegeratedML monitor'\n",
    "server = 'irisimlsvr'\n",
    "port = '51773'\n",
    "database = 'USER' \n",
    "username = 'SUPERUSER' \n",
    "password = 'SYS' \n",
    "cnxn = pyodbc.connect('DRIVER={InterSystems ODBC35};SERVER='+server+';PORT='+port+';DATABASE='+database+';UID='+username+';PWD='+ password)\n",
    "\n",
    "### charset stuffs...\n",
    "cnxn.setdecoding(pyodbc.SQL_CHAR, encoding='utf8')\n",
    "cnxn.setdecoding(pyodbc.SQL_WCHAR, encoding='utf8')\n",
    "cnxn.setencoding(encoding='utf8')\n",
    "\n",
    "### Get a SQL cursor\n",
    "cursor = cnxn.cursor()"
   ]
  },
  {
   "cell_type": "code",
   "execution_count": null,
   "metadata": {},
   "outputs": [],
   "source": [
    "### Native API connection's parameters\n",
    "ip = \"irisimlsvr\"\n",
    "port = 51773\n",
    "namespace = \"USER\"\n",
    "username = \"SUPERUSER\"\n",
    "password = \"SYS\"\n",
    "\n",
    "### Create database connection and IRIS instance\n",
    "try:\n",
    "    nativeConn = irisnative.createConnection(ip, port, namespace, username, password)\n",
    "    dbnative = irisnative.createIris(nativeConn)\n",
    "except:\n",
    "    print('Seems like you can\\'t connect to IRIS... try to exit from any IRIS terminal or other license consumption session')"
   ]
  },
  {
   "cell_type": "markdown",
   "metadata": {},
   "source": [
    "# ML model setup"
   ]
  },
  {
   "cell_type": "markdown",
   "metadata": {},
   "source": [
    "Let's create a model to predict appointments, using first 500 records to train it."
   ]
  },
  {
   "cell_type": "code",
   "execution_count": null,
   "metadata": {},
   "outputs": [],
   "source": [
    "### Model's parameters\n",
    "dataTable = 'MedicalAppointments'\n",
    "dataColumn = 'Show'\n",
    "modelName = 'AppointmentsPredection'"
   ]
  },
  {
   "cell_type": "code",
   "execution_count": null,
   "metadata": {},
   "outputs": [],
   "source": [
    "### Display dataset table\n",
    "df1 = pd.read_sql(\n",
    "    \"SELECT * FROM %s\" \n",
    "    % (dataTable), \n",
    "    cnxn\n",
    ")\n",
    "display(df1)"
   ]
  },
  {
   "cell_type": "code",
   "execution_count": null,
   "metadata": {},
   "outputs": [],
   "source": [
    "### Clean previous runs\n",
    "df1 = pd.read_sql(\n",
    "    \"SELECT COUNT(*) AS ModelExists FROM INFORMATION_SCHEMA.ML_TRAINED_MODELS WHERE MODEL_NAME = '%s'\"\n",
    "    % (modelName), \n",
    "    cnxn\n",
    ")\n",
    "if (df1['ModelExists'][0] > 0):\n",
    "    print('Deleting previous model...')\n",
    "    cursor.execute(\"DROP MODEL %s\" % (modelName))\n",
    "    print('Model deleted')\n",
    "else:\n",
    "    print('No previous runs found')"
   ]
  },
  {
   "cell_type": "code",
   "execution_count": null,
   "metadata": {},
   "outputs": [],
   "source": [
    "### Create a model for predicting patient's appointments misses\n",
    "### Note: seed parameter it's to force reproducibility\n",
    "cursor.execute(\n",
    "    \"CREATE MODEL %s PREDICTING (%s) FROM %s USING {\\\"seed\\\": 3}\" \n",
    "    % (modelName, dataColumn, dataTable)\n",
    ")\n",
    "print('Training model (this could take a while)...')\n",
    "cursor.execute(\n",
    "    \"TRAIN MODEL %s FROM %s WHERE ID <= %s USING {\\\"seed\\\": 3}\" \n",
    "    % (modelName, dataTable, 500)\n",
    ")\n",
    "print('Model trained')\n",
    "cnxn.commit()"
   ]
  },
  {
   "cell_type": "code",
   "execution_count": null,
   "metadata": {},
   "outputs": [],
   "source": [
    "### Display model information\n",
    "cursor.execute(\"SELECT * FROM INFORMATION_SCHEMA.ML_TRAINED_MODELS\")\n",
    "df1 = pd.read_sql(\"SELECT * FROM INFORMATION_SCHEMA.ML_TRAINED_MODELS\", cnxn)\n",
    "display(df1)"
   ]
  },
  {
   "cell_type": "code",
   "execution_count": null,
   "metadata": {},
   "outputs": [],
   "source": [
    "### Display prediction and real patient's appointments presence\n",
    "df1 = pd.read_sql(\n",
    "    \"SELECT PREDICT(%s) As Predicted, Show FROM %s WHERE ID <= %s\" \n",
    "    % (modelName, dataTable, 500), \n",
    "    cnxn\n",
    ")\n",
    "display(df1)"
   ]
  },
  {
   "cell_type": "markdown",
   "metadata": {},
   "source": [
    "# Model monitoring"
   ]
  },
  {
   "cell_type": "markdown",
   "metadata": {},
   "source": [
    "Now let's validate our model using 100 new records regargind train model, i.e., the 600 first records. Note that again the parameter seed was used in order to guarantee reproducibility."
   ]
  },
  {
   "cell_type": "code",
   "execution_count": null,
   "metadata": {},
   "outputs": [],
   "source": [
    "### Model validation\n",
    "cursor.execute(\n",
    "    \"VALIDATE MODEL %s FROM %s WHERE ID < %s USING {\\\"seed\\\": 3}\" \n",
    "    % (modelName, dataTable, 600)\n",
    ")\n",
    "df5 = pd.read_sql(\n",
    "    \"SELECT * FROM INFORMATION_SCHEMA.ML_VALIDATION_METRICS WHERE MODEL_NAME = '%s'\" \n",
    "    % (modelName), cnxn\n",
    ")\n",
    "df6 = df5.pivot(index='VALIDATION_RUN_NAME', columns='METRIC_NAME', values='METRIC_VALUE')\n",
    "display(df6)"
   ]
  },
  {
   "cell_type": "markdown",
   "metadata": {},
   "source": [
    "As we can see, model's accuracy is about 90%."
   ]
  },
  {
   "cell_type": "markdown",
   "metadata": {},
   "source": [
    "MyMetric.IntegratedMLModelsValidation application monitor class let you to access such metrics. Thus it's possible to IRIS' ^%SYSMONMGR monitor utility being aware about your ML models perfomance."
   ]
  },
  {
   "cell_type": "code",
   "execution_count": null,
   "metadata": {},
   "outputs": [],
   "source": [
    "### Get the last validation parameter for each IntegeratedML model\n",
    "print(dbnative.classMethodValue(\"MyMetric.Install\", \"GetSamples\", \"MyMetric.IntegratedMLModelsValidation\"))"
   ]
  },
  {
   "cell_type": "markdown",
   "metadata": {},
   "source": [
    "Same results also could see by CSP interface: http://localhost:8092/csp/user/MyMetric.Sample.IntegratedMLModelsValidation.cls"
   ]
  },
  {
   "cell_type": "markdown",
   "metadata": {},
   "source": [
    "With such functionality, someone could setup an alert into ^%SYSMONMGR monitor utility, checking model's performance metrics against thresholds. This way, IntegeratedML applications performance issues could be quickly notified."
   ]
  },
  {
   "cell_type": "markdown",
   "metadata": {},
   "source": [
    "# Simulating a performance issue"
   ]
  },
  {
   "cell_type": "markdown",
   "metadata": {},
   "source": [
    "Let's re-validate the model, but this turn, using first 800 records and see how this affects to model's performance metrics."
   ]
  },
  {
   "cell_type": "code",
   "execution_count": null,
   "metadata": {},
   "outputs": [],
   "source": [
    "### Model validation\n",
    "cursor.execute(\n",
    "    \"VALIDATE MODEL %s FROM %s WHERE ID < %s USING {\\\"seed\\\": 3}\" \n",
    "    % (modelName, dataTable, 800)\n",
    ")"
   ]
  },
  {
   "cell_type": "code",
   "execution_count": null,
   "metadata": {},
   "outputs": [],
   "source": [
    "### Get the last validation parameter for each IntegeratedML model\n",
    "print(dbnative.classMethodValue(\"MyMetric.Install\", \"GetSamples\", \"MyMetric.IntegratedMLModelsValidation\"))"
   ]
  },
  {
   "cell_type": "markdown",
   "metadata": {},
   "source": [
    "Now model's accuracy had descreased to about 87%.  "
   ]
  },
  {
   "cell_type": "markdown",
   "metadata": {},
   "source": [
    "Let's say that for you business rule, performances less than 90% are unacceptable. If you had previously setup an alert to notify your team when model's performance is less than 90%, such team could be quickly notified and take care about this issue."
   ]
  },
  {
   "cell_type": "markdown",
   "metadata": {},
   "source": [
    "Please refer to the System Monitor [documentation](https://irisdocs.intersystems.com/irislatest/csp/docbook/Doc.View.cls?KEY=GCM_healthmon) to see how setup such alert."
   ]
  },
  {
   "cell_type": "markdown",
   "metadata": {},
   "source": [
    "# Responding to notification of performance issue"
   ]
  },
  {
   "cell_type": "markdown",
   "metadata": {},
   "source": [
    "An approach to deal with such performance issue could be simply retrain the model. However, there isn't a rule and each case demands properly analysis."
   ]
  },
  {
   "cell_type": "code",
   "execution_count": null,
   "metadata": {},
   "outputs": [],
   "source": [
    "### Retrain model using first 800 records\n",
    "print('Training model (this could take a while)...')\n",
    "cursor.execute(\n",
    "    \"TRAIN MODEL %s FROM %s WHERE ID <= %s USING {\\\"seed\\\": 3}\" \n",
    "    % (modelName, dataTable, 600)\n",
    ")\n",
    "print('Model trained')\n",
    "cnxn.commit()\n",
    "\n",
    "### Model validation\n",
    "cursor.execute(\n",
    "    \"VALIDATE MODEL %s FROM %s WHERE ID <= %s USING {\\\"seed\\\": 3}\" \n",
    "    % (modelName, dataTable, 800)\n",
    ")"
   ]
  },
  {
   "cell_type": "code",
   "execution_count": null,
   "metadata": {},
   "outputs": [],
   "source": [
    "### Get the last validation parameter for each IntegeratedML model\n",
    "print(dbnative.classMethodValue(\"MyMetric.Install\", \"GetSamples\", \"MyMetric.IntegratedMLModelsValidation\"))"
   ]
  },
  {
   "cell_type": "markdown",
   "metadata": {},
   "source": [
    "# Teardown"
   ]
  },
  {
   "cell_type": "code",
   "execution_count": null,
   "metadata": {},
   "outputs": [],
   "source": [
    "### Close the database and native API connections\n",
    "nativeConn.close()\n",
    "cnxn.close()"
   ]
  }
 ],
 "metadata": {
  "kernelspec": {
   "display_name": "Python 3",
   "language": "python",
   "name": "python3"
  },
  "language_info": {
   "codemirror_mode": {
    "name": "ipython",
    "version": 3
   },
   "file_extension": ".py",
   "mimetype": "text/x-python",
   "name": "python",
   "nbconvert_exporter": "python",
   "pygments_lexer": "ipython3",
   "version": "3.6.9"
  }
 },
 "nbformat": 4,
 "nbformat_minor": 2
}
