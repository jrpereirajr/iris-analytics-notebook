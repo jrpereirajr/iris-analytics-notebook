{
 "cells": [
  {
   "cell_type": "markdown",
   "metadata": {},
   "source": [
    "# IntegratedML applied to biomedical data, using PyODBC\n",
    "This notebook demonstrates the following:\n",
    "- Connecting to InterSystems IRIS via PyODBC connection\n",
    "- Creating, Training and Executing (PREDICT() function) an IntegratedML machine learning model, applied to breast cancer tumor diagnoses\n",
    "- INSERTING machine learning predictions into a new SQL table\n",
    "- Executing a relatively complex SQL query containing IntegratedML PREDICT() and PROBABILITY() functions, and flexibly using the results to filter and sort the output"
   ]
  },
  {
   "cell_type": "markdown",
   "metadata": {},
   "source": [
    "### ODBC and pyODBC Resources\n",
    "Often, connecting to a database is more than half the battle when developing SQL-heavy applications, especially if you are not familiar with the tools, or more importantly the particular database system. If this is the case, and you are just getting started using PyODBC and InterSystems IRIS, this notebook and these resources below may help you get up to speed!\n",
    "\n",
    "https://gettingstarted.intersystems.com/development-setup/odbc-connections/\n",
    "\n",
    "https://irisdocs.intersystems.com/irislatest/csp/docbook/DocBook.UI.Page.cls?KEY=BNETODBC_support#BNETODBC_support_pyodbc\n",
    "\n",
    "https://stackoverflow.com/questions/46405777/connect-docker-python-to-sql-server-with-pyodbc\n",
    "\n",
    "https://stackoverflow.com/questions/44527452/cant-open-lib-odbc-driver-13-for-sql-server-sym-linking-issue"
   ]
  },
  {
   "cell_type": "code",
   "execution_count": 1,
   "metadata": {},
   "outputs": [
    {
     "data": {
      "text/html": [
       "<style>.container { width:100% !important; }</style>"
      ],
      "text/plain": [
       "<IPython.core.display.HTML object>"
      ]
     },
     "metadata": {},
     "output_type": "display_data"
    }
   ],
   "source": [
    "# make the notebook full screen\n",
    "from IPython.core.display import display, HTML\n",
    "display(HTML(\"<style>.container { width:100% !important; }</style>\"))"
   ]
  },
  {
   "cell_type": "markdown",
   "metadata": {},
   "source": [
    "### 1. Install system packages for ODBC"
   ]
  },
  {
   "cell_type": "code",
   "execution_count": null,
   "metadata": {
    "scrolled": true
   },
   "outputs": [
    {
     "name": "stdout",
     "output_type": "stream",
     "text": [
      "Get:1 http://security.ubuntu.com/ubuntu bionic-security InRelease [88.7 kB]    \n",
      "Get:2 http://archive.ubuntu.com/ubuntu bionic InRelease [242 kB]\n",
      "Get:3 http://archive.ubuntu.com/ubuntu bionic-updates InRelease [88.7 kB]\n",
      "Get:4 http://archive.ubuntu.com/ubuntu bionic-backports InRelease [74.6 kB]\n",
      "Get:5 http://security.ubuntu.com/ubuntu bionic-security/universe amd64 Packages [869 kB]\n",
      "Get:6 http://archive.ubuntu.com/ubuntu bionic/multiverse amd64 Packages [186 kB]\n",
      "Get:7 http://security.ubuntu.com/ubuntu bionic-security/main amd64 Packages [1003 kB]\n",
      "Get:8 http://archive.ubuntu.com/ubuntu bionic/main amd64 Packages [1344 kB]    \n",
      "Get:9 http://security.ubuntu.com/ubuntu bionic-security/multiverse amd64 Packages [9282 B]\n",
      "Get:10 http://security.ubuntu.com/ubuntu bionic-security/restricted amd64 Packages [89.0 kB]\n",
      "Get:11 http://archive.ubuntu.com/ubuntu bionic/universe amd64 Packages [11.3 MB]\n",
      "Get:12 http://archive.ubuntu.com/ubuntu bionic/restricted amd64 Packages [13.5 kB]\n",
      "Get:13 http://archive.ubuntu.com/ubuntu bionic-updates/universe amd64 Packages [1406 kB]\n",
      "Get:14 http://archive.ubuntu.com/ubuntu bionic-updates/main amd64 Packages [1302 kB]\n",
      "Get:15 http://archive.ubuntu.com/ubuntu bionic-updates/multiverse amd64 Packages [13.6 kB]\n",
      "Get:16 http://archive.ubuntu.com/ubuntu bionic-updates/restricted amd64 Packages [102 kB]\n",
      "Get:17 http://archive.ubuntu.com/ubuntu bionic-backports/main amd64 Packages [8286 B]\n",
      "Get:18 http://archive.ubuntu.com/ubuntu bionic-backports/universe amd64 Packages [8158 B]\n",
      "Fetched 18.2 MB in 1min 9s (264 kB/s)                                          \n",
      "Reading package lists... Done\n",
      "Reading package lists... Done\n",
      "Building dependency tree       \n",
      "Reading state information... Done\n",
      "gcc is already the newest version (4:7.4.0-1ubuntu2.3).\n",
      "gcc set to manually installed.\n",
      "0 upgraded, 0 newly installed, 0 to remove and 25 not upgraded.\n",
      "Reading package lists... Done\n",
      "Building dependency tree       \n",
      "Reading state information... Done\n",
      "The following additional packages will be installed:\n",
      "  autotools-dev freetds-common libltdl-dev libltdl7 libodbc1 libtool odbcinst\n",
      "  odbcinst1debian2\n",
      "Suggested packages:\n",
      "  libtool-doc libmyodbc odbc-postgresql unixodbc-bin autoconf automaken\n",
      "  gfortran | fortran95-compiler gcj-jdk\n",
      "The following NEW packages will be installed:\n",
      "  autotools-dev freetds-common libltdl-dev libltdl7 libodbc1 libtool odbcinst\n",
      "  odbcinst1debian2 tdsodbc unixodbc-dev\n",
      "0 upgraded, 10 newly installed, 0 to remove and 25 not upgraded.\n",
      "Need to get 1094 kB of archives.\n",
      "After this operation, 5969 kB of additional disk space will be used.\n",
      "Get:1 http://archive.ubuntu.com/ubuntu bionic/main amd64 autotools-dev all 20180224.1 [39.6 kB]\n",
      "Get:2 http://archive.ubuntu.com/ubuntu bionic-updates/main amd64 freetds-common all 1.00.82-2ubuntu0.1 [24.7 kB]\n",
      "Get:3 http://archive.ubuntu.com/ubuntu bionic/main amd64 libltdl7 amd64 2.4.6-2 [38.8 kB]\n",
      "Get:4 http://archive.ubuntu.com/ubuntu bionic/main amd64 libltdl-dev amd64 2.4.6-2 [162 kB]\n",
      "Get:5 http://archive.ubuntu.com/ubuntu bionic/main amd64 libodbc1 amd64 2.3.4-1.1ubuntu3 [183 kB]\n",
      "Get:6 http://archive.ubuntu.com/ubuntu bionic/main amd64 libtool all 2.4.6-2 [194 kB]\n",
      "Get:7 http://archive.ubuntu.com/ubuntu bionic/main amd64 odbcinst1debian2 amd64 2.3.4-1.1ubuntu3 [40.4 kB]\n",
      "Get:8 http://archive.ubuntu.com/ubuntu bionic/main amd64 odbcinst amd64 2.3.4-1.1ubuntu3 [12.4 kB]\n",
      "Get:9 http://archive.ubuntu.com/ubuntu bionic-updates/main amd64 tdsodbc amd64 1.00.82-2ubuntu0.1 [183 kB]\n",
      "Get:10 http://archive.ubuntu.com/ubuntu bionic/main amd64 unixodbc-dev amd64 2.3.4-1.1ubuntu3 [217 kB]\n",
      "Fetched 1094 kB in 3s (335 kB/s)     \n",
      "debconf: delaying package configuration, since apt-utils is not installed\n",
      "Selecting previously unselected package autotools-dev.\n",
      "(Reading database ... 17146 files and directories currently installed.)\n",
      "Preparing to unpack .../0-autotools-dev_20180224.1_all.deb ...\n",
      "Unpacking autotools-dev (20180224.1) ...\n",
      "Selecting previously unselected package freetds-common.\n",
      "Preparing to unpack .../1-freetds-common_1.00.82-2ubuntu0.1_all.deb ...\n",
      "Unpacking freetds-common (1.00.82-2ubuntu0.1) ...\n",
      "Selecting previously unselected package libltdl7:amd64.\n",
      "Preparing to unpack .../2-libltdl7_2.4.6-2_amd64.deb ...\n",
      "Unpacking libltdl7:amd64 (2.4.6-2) ...\n",
      "Selecting previously unselected package libltdl-dev:amd64.\n",
      "Preparing to unpack .../3-libltdl-dev_2.4.6-2_amd64.deb ...\n",
      "Unpacking libltdl-dev:amd64 (2.4.6-2) ...\n",
      "Selecting previously unselected package libodbc1:amd64.\n",
      "Preparing to unpack .../4-libodbc1_2.3.4-1.1ubuntu3_amd64.deb ...\n",
      "Unpacking libodbc1:amd64 (2.3.4-1.1ubuntu3) ...\n",
      "Selecting previously unselected package libtool.\n",
      "Preparing to unpack .../5-libtool_2.4.6-2_all.deb ...\n",
      "Unpacking libtool (2.4.6-2) ...\n",
      "Selecting previously unselected package odbcinst1debian2:amd64.\n",
      "Preparing to unpack .../6-odbcinst1debian2_2.3.4-1.1ubuntu3_amd64.deb ...\n",
      "Unpacking odbcinst1debian2:amd64 (2.3.4-1.1ubuntu3) ...\n",
      "Selecting previously unselected package odbcinst.\n",
      "Preparing to unpack .../7-odbcinst_2.3.4-1.1ubuntu3_amd64.deb ...\n",
      "Unpacking odbcinst (2.3.4-1.1ubuntu3) ...\n",
      "Selecting previously unselected package tdsodbc:amd64.\n",
      "Preparing to unpack .../8-tdsodbc_1.00.82-2ubuntu0.1_amd64.deb ...\n",
      "Unpacking tdsodbc:amd64 (1.00.82-2ubuntu0.1) ...\n",
      "Selecting previously unselected package unixodbc-dev:amd64.\n",
      "Preparing to unpack .../9-unixodbc-dev_2.3.4-1.1ubuntu3_amd64.deb ...\n",
      "Unpacking unixodbc-dev:amd64 (2.3.4-1.1ubuntu3) ...\n",
      "Setting up freetds-common (1.00.82-2ubuntu0.1) ...\n",
      "Setting up autotools-dev (20180224.1) ...\n",
      "Setting up libltdl7:amd64 (2.4.6-2) ...\n",
      "Setting up libtool (2.4.6-2) ...\n",
      "Setting up libodbc1:amd64 (2.3.4-1.1ubuntu3) ...\n",
      "Setting up libltdl-dev:amd64 (2.4.6-2) ...\n",
      "Setting up odbcinst1debian2:amd64 (2.3.4-1.1ubuntu3) ...\n",
      "Setting up unixodbc-dev:amd64 (2.3.4-1.1ubuntu3) ...\n",
      "Setting up odbcinst (2.3.4-1.1ubuntu3) ...\n",
      "Setting up tdsodbc:amd64 (1.00.82-2ubuntu0.1) ...\n",
      "debconf: unable to initialize frontend: Dialog\n",
      "debconf: (No usable dialog-like program is installed, so the dialog based frontend cannot be used. at /usr/share/perl5/Debconf/FrontEnd/Dialog.pm line 76.)\n",
      "debconf: falling back to frontend: Readline\n",
      "Processing triggers for libc-bin (2.27-3ubuntu1) ...\n",
      "Reading package lists... Done\n",
      "Building dependency tree       \n",
      "Reading state information... Done\n",
      "The following additional packages will be installed:\n",
      "  fontconfig libaudio2 libice6 libjbig0 libmng2 libmysqlclient20\n",
      "  libodbcinstq4-1 libqt4-dbus libqt4-declarative libqt4-network libqt4-script\n",
      "  libqt4-sql libqt4-sql-mysql libqt4-xml libqt4-xmlpatterns libqtcore4\n",
      "  libqtdbus4 libqtgui4 libsm6 libtiff5 libxt6 mysql-common qdbus qt-at-spi\n",
      "  qtchooser qtcore4-l10n\n",
      "Suggested packages:\n",
      "  nas libqt4-declarative-folderlistmodel libqt4-declarative-gestures\n",
      "  libqt4-declarative-particles libqt4-declarative-shaders qt4-qmlviewer\n",
      "  libqt4-dev libicu55 libthai0 qt4-qtconfig\n",
      "The following NEW packages will be installed:\n",
      "  fontconfig libaudio2 libice6 libjbig0 libmng2 libmysqlclient20\n",
      "  libodbcinstq4-1 libqt4-dbus libqt4-declarative libqt4-network libqt4-script\n",
      "  libqt4-sql libqt4-sql-mysql libqt4-xml libqt4-xmlpatterns libqtcore4\n",
      "  libqtdbus4 libqtgui4 libsm6 libtiff5 libxt6 mysql-common qdbus qt-at-spi\n",
      "  qtchooser qtcore4-l10n unixodbc-bin\n",
      "0 upgraded, 27 newly installed, 0 to remove and 25 not upgraded.\n",
      "Need to get 12.0 MB of archives.\n",
      "After this operation, 47.6 MB of additional disk space will be used.\n",
      "Get:1 http://archive.ubuntu.com/ubuntu bionic/main amd64 fontconfig amd64 2.12.6-0ubuntu2 [169 kB]\n",
      "Get:2 http://archive.ubuntu.com/ubuntu bionic/universe amd64 libmng2 amd64 2.0.2-0ubuntu3 [169 kB]\n",
      "Get:3 http://archive.ubuntu.com/ubuntu bionic/main amd64 libice6 amd64 2:1.0.9-2 [40.2 kB]\n",
      "Get:4 http://archive.ubuntu.com/ubuntu bionic/main amd64 libsm6 amd64 2:1.2.2-1 [15.8 kB]\n",
      "Get:5 http://archive.ubuntu.com/ubuntu bionic/main amd64 libxt6 amd64 1:1.1.5-1 [160 kB]\n",
      "Get:6 http://archive.ubuntu.com/ubuntu bionic/main amd64 libaudio2 amd64 1.9.4-6 [50.3 kB]\n",
      "Get:7 http://archive.ubuntu.com/ubuntu bionic/main amd64 mysql-common all 5.8+1.0.4 [7308 B]\n",
      "Get:8 http://archive.ubuntu.com/ubuntu bionic-updates/main amd64 libmysqlclient20 amd64 5.7.30-0ubuntu0.18.04.1 [690 kB]\n"
     ]
    },
    {
     "name": "stdout",
     "output_type": "stream",
     "text": [
      "Get:9 http://archive.ubuntu.com/ubuntu bionic/universe amd64 qtcore4-l10n all 4:4.8.7+dfsg-7ubuntu1 [617 kB]\n",
      "Get:10 http://archive.ubuntu.com/ubuntu bionic/universe amd64 libqtcore4 amd64 4:4.8.7+dfsg-7ubuntu1 [1552 kB]\n",
      "23% [10 libqtcore4 498 kB/1552 kB 32%]                             159 kB/s 60s\u001b[0m\u001b[33m\u001b[33m\u001b[33m\u001b[33m"
     ]
    }
   ],
   "source": [
    "!apt-get update\n",
    "!apt-get install gcc\n",
    "!apt-get install -y tdsodbc unixodbc-dev\n",
    "!apt install unixodbc-bin -y\n",
    "!apt-get clean "
   ]
  },
  {
   "cell_type": "markdown",
   "metadata": {},
   "source": [
    "#### Use this command to troubleshoot a failed pyodbc installation:\n",
    "!pip install --upgrade --global-option=build_ext --global-option=\"-I/usr/local/include\"  --global-option=\"-L/usr/local/lib\" pyodbc"
   ]
  },
  {
   "cell_type": "code",
   "execution_count": null,
   "metadata": {},
   "outputs": [],
   "source": [
    "!pip install pyodbc"
   ]
  },
  {
   "cell_type": "code",
   "execution_count": null,
   "metadata": {},
   "outputs": [],
   "source": [
    "!rm /etc/odbcinst.ini\n",
    "!rm /etc/odbc.ini"
   ]
  },
  {
   "cell_type": "code",
   "execution_count": null,
   "metadata": {},
   "outputs": [],
   "source": [
    "!ln -s /tf/odbcinst.ini /etc/odbcinst.ini\n",
    "!ln -s /tf/odbc.ini /etc/odbc.ini"
   ]
  },
  {
   "cell_type": "code",
   "execution_count": null,
   "metadata": {},
   "outputs": [],
   "source": [
    "!cat /tf/odbcinst.ini"
   ]
  },
  {
   "cell_type": "code",
   "execution_count": null,
   "metadata": {},
   "outputs": [],
   "source": [
    "!cat /tf/odbc.ini"
   ]
  },
  {
   "cell_type": "code",
   "execution_count": null,
   "metadata": {},
   "outputs": [],
   "source": [
    "!odbcinst -j"
   ]
  },
  {
   "cell_type": "markdown",
   "metadata": {},
   "source": [
    "### 2. Verify you see \"InterSystems ODBC35\" in the drivers list"
   ]
  },
  {
   "cell_type": "code",
   "execution_count": null,
   "metadata": {
    "scrolled": true
   },
   "outputs": [],
   "source": [
    "import pyodbc\n",
    "print(pyodbc.drivers())"
   ]
  },
  {
   "cell_type": "markdown",
   "metadata": {},
   "source": [
    "### 3. Get an ODBC connection "
   ]
  },
  {
   "cell_type": "code",
   "execution_count": null,
   "metadata": {},
   "outputs": [],
   "source": [
    "import pyodbc \n",
    "import time\n",
    "\n",
    "\n",
    "#input(\"Hit any key to start\")\n",
    "dsn = 'IRIS QuickML demo via PyODBC'\n",
    "server = 'irisimlsvr' #'192.168.99.101' \n",
    "port = '51773' #'9091'\n",
    "database = 'USER' \n",
    "username = 'SUPERUSER' \n",
    "password = 'SYS' \n",
    "cnxn = pyodbc.connect('DRIVER={InterSystems ODBC35};SERVER='+server+';PORT='+port+';DATABASE='+database+';UID='+username+';PWD='+ password)\n",
    "\n",
    "### Ensure it read strings correctly.\n",
    "cnxn.setdecoding(pyodbc.SQL_CHAR, encoding='utf8')\n",
    "cnxn.setdecoding(pyodbc.SQL_WCHAR, encoding='utf8')\n",
    "cnxn.setencoding(encoding='utf8')"
   ]
  },
  {
   "cell_type": "markdown",
   "metadata": {},
   "source": [
    "### 4. Get a cursor; start the timer"
   ]
  },
  {
   "cell_type": "code",
   "execution_count": null,
   "metadata": {},
   "outputs": [],
   "source": [
    "cursor = cnxn.cursor()\n",
    "start= time.clock()"
   ]
  },
  {
   "cell_type": "markdown",
   "metadata": {},
   "source": [
    "### 5. specify the training data, and give a model name"
   ]
  },
  {
   "cell_type": "code",
   "execution_count": null,
   "metadata": {},
   "outputs": [],
   "source": [
    "dataTable = 'SQLUser.BreastCancer'\n",
    "dataTablePredict = 'Result02'\n",
    "dataColumn =  'Diagnosis'\n",
    "dataColumnPredict = \"PredictedDiagnosis\"\n",
    "modelName = \"bc\" #chose a name - must be unique in server end"
   ]
  },
  {
   "cell_type": "markdown",
   "metadata": {},
   "source": [
    "### 6. Train and predict"
   ]
  },
  {
   "cell_type": "code",
   "execution_count": null,
   "metadata": {},
   "outputs": [],
   "source": [
    "cursor.execute(\"CREATE MODEL %s PREDICTING (%s)  FROM %s\" % (modelName, dataColumn, dataTable))\n",
    "cursor.execute(\"TRAIN MODEL %s FROM %s\" % (modelName, dataTable))\n",
    "cursor.execute(\"Create Table %s (%s VARCHAR(100), %s VARCHAR(100))\" % (dataTablePredict, dataColumnPredict, dataColumn))\n",
    "cursor.execute(\"INSERT INTO %s  SELECT TOP 20 PREDICT(%s) AS %s, %s FROM %s\" % (dataTablePredict, modelName, dataColumnPredict, dataColumn, dataTable)) \n",
    "cnxn.commit()"
   ]
  },
  {
   "cell_type": "markdown",
   "metadata": {},
   "source": [
    "### 7. Show the predict result"
   ]
  },
  {
   "cell_type": "code",
   "execution_count": null,
   "metadata": {},
   "outputs": [],
   "source": [
    "import pandas as pd\n",
    "from IPython.display import display\n",
    "\n",
    "df1 = pd.read_sql(\"SELECT * from %s ORDER BY ID\" % dataTablePredict, cnxn)\n",
    "display(df1)"
   ]
  },
  {
   "cell_type": "markdown",
   "metadata": {},
   "source": [
    "### 8. Show a complicated query\n",
    "IntegratedML function PREDICT() and PROBABILITY() can appear virtually anywhere in a SQL query, for maximal flexibility!\n",
    "Below we are SELECTing columns as well as the result of the PROBABILITY function, and then filtering on the result of the PREDICT function. To top it off, ORDER BY is using the output of PROBSBILITY for sorting."
   ]
  },
  {
   "cell_type": "code",
   "execution_count": null,
   "metadata": {},
   "outputs": [],
   "source": [
    "df2 = pd.read_sql(\"SELECT ID, PROBABILITY(bc FOR 'M') AS Probability, Diagnosis FROM %s \\\n",
    "                    WHERE MeanArea BETWEEN 300 AND 600 AND MeanRadius > 5 AND PREDICT(%s) = 'M' \\\n",
    "                    ORDER BY Probability\" % (dataTable, modelName),cnxn)         \n",
    "display(df2)"
   ]
  },
  {
   "cell_type": "markdown",
   "metadata": {},
   "source": [
    "### 9. Close and clean "
   ]
  },
  {
   "cell_type": "code",
   "execution_count": null,
   "metadata": {},
   "outputs": [],
   "source": [
    "cnxn.close()\n",
    "end= time.clock()\n",
    "print (\"Total elapsed time: \")\n",
    "print (end-start)\n",
    "#input(\"Hit any key to end\")"
   ]
  }
 ],
 "metadata": {
  "kernelspec": {
   "display_name": "Python 3",
   "language": "python",
   "name": "python3"
  },
  "language_info": {
   "codemirror_mode": {
    "name": "ipython",
    "version": 3
   },
   "file_extension": ".py",
   "mimetype": "text/x-python",
   "name": "python",
   "nbconvert_exporter": "python",
   "pygments_lexer": "ipython3",
   "version": "3.6.9"
  }
 },
 "nbformat": 4,
 "nbformat_minor": 2
}
