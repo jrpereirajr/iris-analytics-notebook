{
 "cells": [
  {
   "cell_type": "code",
   "execution_count": 1,
   "metadata": {},
   "outputs": [],
   "source": [
    "import pyodbc \n",
    "import time\n",
    "import pandas as pd\n",
    "from IPython.display import display"
   ]
  },
  {
   "cell_type": "markdown",
   "metadata": {},
   "source": [
    "### Get an ODBC connection "
   ]
  },
  {
   "cell_type": "code",
   "execution_count": 2,
   "metadata": {},
   "outputs": [],
   "source": [
    "dsn = 'IRIS QuickML demo via PyODBC'\n",
    "server = 'irisimlsvr' #'192.168.99.101' \n",
    "port = '51773' #'9091'\n",
    "database = 'USER' \n",
    "username = 'SUPERUSER' \n",
    "password = 'SYS' \n",
    "cnxn = pyodbc.connect('DRIVER={InterSystems ODBC35};SERVER='+server+';PORT='+port+';DATABASE='+database+';UID='+username+';PWD='+ password)\n",
    "\n",
    "### Ensure it read strings correctly.\n",
    "cnxn.setdecoding(pyodbc.SQL_CHAR, encoding='utf8')\n",
    "cnxn.setdecoding(pyodbc.SQL_WCHAR, encoding='utf8')\n",
    "cnxn.setencoding(encoding='utf8')"
   ]
  },
  {
   "cell_type": "markdown",
   "metadata": {},
   "source": [
    "### Get a cursor; start the timer"
   ]
  },
  {
   "cell_type": "code",
   "execution_count": 3,
   "metadata": {},
   "outputs": [],
   "source": [
    "cursor = cnxn.cursor()\n",
    "start= time.clock()"
   ]
  },
  {
   "cell_type": "markdown",
   "metadata": {},
   "source": [
    "### Model configuration"
   ]
  },
  {
   "cell_type": "code",
   "execution_count": 4,
   "metadata": {},
   "outputs": [],
   "source": [
    "dataTable = 'Passengers'\n",
    "dataColumn =  'Survived'\n",
    "modelName = \"SurviveClassification\"\n",
    "trainProportion = \".8\""
   ]
  },
  {
   "cell_type": "markdown",
   "metadata": {},
   "source": [
    "### Train and predict"
   ]
  },
  {
   "cell_type": "code",
   "execution_count": 5,
   "metadata": {},
   "outputs": [],
   "source": [
    "df1 = pd.read_sql(\n",
    "    \"SELECT COUNT(*) AS ModelExists FROM INFORMATION_SCHEMA.ML_TRAINED_MODELS WHERE MODEL_NAME = '%s'\"\n",
    "    % (modelName), \n",
    "    cnxn\n",
    ")\n",
    "if (df1['ModelExists'][0] == 1):\n",
    "    print('Deleting previous model...')\n",
    "    cursor.execute(\"DROP MODEL %s\" % (modelName))"
   ]
  },
  {
   "cell_type": "code",
   "execution_count": 6,
   "metadata": {},
   "outputs": [],
   "source": [
    "cursor.execute(\"CREATE MODEL %s PREDICTING (%s)  FROM %s\" % (modelName, dataColumn, dataTable))\n",
    "cursor.execute(\"TRAIN MODEL %s FROM %s WHERE ID < (SELECT COUNT(*) * %s FROM %s)\" % (modelName, dataTable, trainProportion, dataTable))\n",
    "cnxn.commit()"
   ]
  },
  {
   "cell_type": "code",
   "execution_count": 7,
   "metadata": {},
   "outputs": [
    {
     "data": {
      "text/html": [
       "<div>\n",
       "<style scoped>\n",
       "    .dataframe tbody tr th:only-of-type {\n",
       "        vertical-align: middle;\n",
       "    }\n",
       "\n",
       "    .dataframe tbody tr th {\n",
       "        vertical-align: top;\n",
       "    }\n",
       "\n",
       "    .dataframe thead th {\n",
       "        text-align: right;\n",
       "    }\n",
       "</style>\n",
       "<table border=\"1\" class=\"dataframe\">\n",
       "  <thead>\n",
       "    <tr style=\"text-align: right;\">\n",
       "      <th></th>\n",
       "      <th>MODEL_NAME</th>\n",
       "      <th>TRAINED_MODEL_NAME</th>\n",
       "      <th>PROVIDER</th>\n",
       "      <th>TRAINED_TIMESTAMP</th>\n",
       "      <th>MODEL_TYPE</th>\n",
       "      <th>MODEL_INFO</th>\n",
       "    </tr>\n",
       "  </thead>\n",
       "  <tbody>\n",
       "    <tr>\n",
       "      <th>0</th>\n",
       "      <td>bc</td>\n",
       "      <td>bc2</td>\n",
       "      <td>AutoML</td>\n",
       "      <td>2020-07-08 11:25:26.578</td>\n",
       "      <td>classification</td>\n",
       "      <td>ModelType:Logistic Regression, Package:sklearn...</td>\n",
       "    </tr>\n",
       "    <tr>\n",
       "      <th>1</th>\n",
       "      <td>SurviveClassification</td>\n",
       "      <td>SurviveClassification2</td>\n",
       "      <td>AutoML</td>\n",
       "      <td>2020-07-08 11:27:08.419</td>\n",
       "      <td>classification</td>\n",
       "      <td>ModelType:Random Forest, Package:sklearn, Prob...</td>\n",
       "    </tr>\n",
       "  </tbody>\n",
       "</table>\n",
       "</div>"
      ],
      "text/plain": [
       "              MODEL_NAME      TRAINED_MODEL_NAME PROVIDER  \\\n",
       "0                     bc                     bc2   AutoML   \n",
       "1  SurviveClassification  SurviveClassification2   AutoML   \n",
       "\n",
       "        TRAINED_TIMESTAMP      MODEL_TYPE  \\\n",
       "0 2020-07-08 11:25:26.578  classification   \n",
       "1 2020-07-08 11:27:08.419  classification   \n",
       "\n",
       "                                          MODEL_INFO  \n",
       "0  ModelType:Logistic Regression, Package:sklearn...  \n",
       "1  ModelType:Random Forest, Package:sklearn, Prob...  "
      ]
     },
     "metadata": {},
     "output_type": "display_data"
    }
   ],
   "source": [
    "cursor.execute(\"SELECT * FROM INFORMATION_SCHEMA.ML_TRAINED_MODELS\")\n",
    "df1 = pd.read_sql(\"SELECT * FROM INFORMATION_SCHEMA.ML_TRAINED_MODELS\", cnxn)\n",
    "display(df1)"
   ]
  },
  {
   "cell_type": "markdown",
   "metadata": {},
   "source": [
    "### Show the predict result"
   ]
  },
  {
   "cell_type": "code",
   "execution_count": 8,
   "metadata": {},
   "outputs": [
    {
     "data": {
      "text/html": [
       "<div>\n",
       "<style scoped>\n",
       "    .dataframe tbody tr th:only-of-type {\n",
       "        vertical-align: middle;\n",
       "    }\n",
       "\n",
       "    .dataframe tbody tr th {\n",
       "        vertical-align: top;\n",
       "    }\n",
       "\n",
       "    .dataframe thead th {\n",
       "        text-align: right;\n",
       "    }\n",
       "</style>\n",
       "<table border=\"1\" class=\"dataframe\">\n",
       "  <thead>\n",
       "    <tr style=\"text-align: right;\">\n",
       "      <th></th>\n",
       "      <th>Predicted</th>\n",
       "      <th>Survived</th>\n",
       "    </tr>\n",
       "  </thead>\n",
       "  <tbody>\n",
       "    <tr>\n",
       "      <th>0</th>\n",
       "      <td>0</td>\n",
       "      <td>1</td>\n",
       "    </tr>\n",
       "    <tr>\n",
       "      <th>1</th>\n",
       "      <td>0</td>\n",
       "      <td>0</td>\n",
       "    </tr>\n",
       "    <tr>\n",
       "      <th>2</th>\n",
       "      <td>1</td>\n",
       "      <td>0</td>\n",
       "    </tr>\n",
       "    <tr>\n",
       "      <th>3</th>\n",
       "      <td>0</td>\n",
       "      <td>0</td>\n",
       "    </tr>\n",
       "    <tr>\n",
       "      <th>4</th>\n",
       "      <td>1</td>\n",
       "      <td>1</td>\n",
       "    </tr>\n",
       "    <tr>\n",
       "      <th>...</th>\n",
       "      <td>...</td>\n",
       "      <td>...</td>\n",
       "    </tr>\n",
       "    <tr>\n",
       "      <th>174</th>\n",
       "      <td>0</td>\n",
       "      <td>0</td>\n",
       "    </tr>\n",
       "    <tr>\n",
       "      <th>175</th>\n",
       "      <td>1</td>\n",
       "      <td>1</td>\n",
       "    </tr>\n",
       "    <tr>\n",
       "      <th>176</th>\n",
       "      <td>0</td>\n",
       "      <td>0</td>\n",
       "    </tr>\n",
       "    <tr>\n",
       "      <th>177</th>\n",
       "      <td>1</td>\n",
       "      <td>1</td>\n",
       "    </tr>\n",
       "    <tr>\n",
       "      <th>178</th>\n",
       "      <td>0</td>\n",
       "      <td>0</td>\n",
       "    </tr>\n",
       "  </tbody>\n",
       "</table>\n",
       "<p>179 rows × 2 columns</p>\n",
       "</div>"
      ],
      "text/plain": [
       "    Predicted  Survived\n",
       "0           0         1\n",
       "1           0         0\n",
       "2           1         0\n",
       "3           0         0\n",
       "4           1         1\n",
       "..        ...       ...\n",
       "174         0         0\n",
       "175         1         1\n",
       "176         0         0\n",
       "177         1         1\n",
       "178         0         0\n",
       "\n",
       "[179 rows x 2 columns]"
      ]
     },
     "metadata": {},
     "output_type": "display_data"
    }
   ],
   "source": [
    "df1 = pd.read_sql(\n",
    "    \"SELECT PREDICT(%s) As Predicted, Survived FROM %s WHERE ID > (SELECT COUNT(*) * %s FROM %s)\" \n",
    "    % (modelName, dataTable, trainProportion, dataTable), \n",
    "    cnxn\n",
    ")\n",
    "display(df1)"
   ]
  },
  {
   "cell_type": "markdown",
   "metadata": {},
   "source": [
    "### VALIDATE MODEL command calculates accuracy metrics"
   ]
  },
  {
   "cell_type": "code",
   "execution_count": 9,
   "metadata": {},
   "outputs": [
    {
     "data": {
      "text/html": [
       "<div>\n",
       "<style scoped>\n",
       "    .dataframe tbody tr th:only-of-type {\n",
       "        vertical-align: middle;\n",
       "    }\n",
       "\n",
       "    .dataframe tbody tr th {\n",
       "        vertical-align: top;\n",
       "    }\n",
       "\n",
       "    .dataframe thead th {\n",
       "        text-align: right;\n",
       "    }\n",
       "</style>\n",
       "<table border=\"1\" class=\"dataframe\">\n",
       "  <thead>\n",
       "    <tr style=\"text-align: right;\">\n",
       "      <th>METRIC_NAME</th>\n",
       "      <th>Accuracy</th>\n",
       "      <th>F-Measure</th>\n",
       "      <th>Precision</th>\n",
       "      <th>Recall</th>\n",
       "    </tr>\n",
       "    <tr>\n",
       "      <th>VALIDATION_RUN_NAME</th>\n",
       "      <th></th>\n",
       "      <th></th>\n",
       "      <th></th>\n",
       "      <th></th>\n",
       "    </tr>\n",
       "  </thead>\n",
       "  <tbody>\n",
       "    <tr>\n",
       "      <th>SurviveClassification21</th>\n",
       "      <td>0.97</td>\n",
       "      <td>0.96</td>\n",
       "      <td>0.97</td>\n",
       "      <td>0.96</td>\n",
       "    </tr>\n",
       "  </tbody>\n",
       "</table>\n",
       "</div>"
      ],
      "text/plain": [
       "METRIC_NAME              Accuracy  F-Measure  Precision  Recall\n",
       "VALIDATION_RUN_NAME                                            \n",
       "SurviveClassification21      0.97       0.96       0.97    0.96"
      ]
     },
     "metadata": {},
     "output_type": "display_data"
    }
   ],
   "source": [
    "cursor.execute(\"VALIDATE MODEL %s FROM %s\" % (modelName, dataTable))\n",
    "df5 = pd.read_sql(\"SELECT * FROM INFORMATION_SCHEMA.ML_VALIDATION_METRICS WHERE MODEL_NAME = '%s'\" % (modelName), cnxn)\n",
    "df6 = df5.pivot(index='VALIDATION_RUN_NAME', columns='METRIC_NAME', values='METRIC_VALUE')\n",
    "display(df6)"
   ]
  },
  {
   "cell_type": "markdown",
   "metadata": {},
   "source": [
    "### Close and clean "
   ]
  },
  {
   "cell_type": "code",
   "execution_count": 10,
   "metadata": {},
   "outputs": [
    {
     "name": "stdout",
     "output_type": "stream",
     "text": [
      "Total elapsed time: \n",
      "0.1289929999999999\n"
     ]
    }
   ],
   "source": [
    "cnxn.close()\n",
    "end= time.clock()\n",
    "print (\"Total elapsed time: \")\n",
    "print (end-start)"
   ]
  },
  {
   "cell_type": "code",
   "execution_count": 23,
   "metadata": {},
   "outputs": [
    {
     "name": "stdout",
     "output_type": "stream",
     "text": [
      "Processing /tmp/irisnative-1.2.0-cp34-abi3-linux_x86_64.whl\n",
      "Installing collected packages: irisnative\n",
      "Successfully installed irisnative-1.2.0\n"
     ]
    }
   ],
   "source": [
    "!pip install /tmp/irisnative-1.2.0-cp34-abi3-linux_x86_64.whl"
   ]
  },
  {
   "cell_type": "code",
   "execution_count": 24,
   "metadata": {},
   "outputs": [],
   "source": [
    "import irisnative"
   ]
  },
  {
   "cell_type": "code",
   "execution_count": 86,
   "metadata": {},
   "outputs": [],
   "source": [
    "ip = \"irisimlsvr\"\n",
    "port = 51773\n",
    "namespace = \"USER\"\n",
    "username = \"SUPERUSER\"\n",
    "password = \"SYS\"\n",
    "\n",
    "# create database connection and IRIS instance\n",
    "connection = irisnative.createConnection(ip, port, namespace, username, password)\n",
    "dbnative = irisnative.createIris(connection)"
   ]
  },
  {
   "cell_type": "code",
   "execution_count": 87,
   "metadata": {},
   "outputs": [
    {
     "name": "stdout",
     "output_type": "stream",
     "text": [
      "MyMetric - IntegratedMLModelsValidation   AppointmentsShowPredection2655694605153933   Serial value of object or the object identity:T\u0001MyMetric||IntegratedMLModelsValidation||AppointmentsShowPredection2655694605153933.\u0001MyMetric.Sample.IntegratedMLModelsValidation\r\n",
      "   Accuracy:                   .81\r\n",
      "   F-Measure:                   .9\r\n",
      "   Precision:                  .81\r\n",
      "   Recall:                       1\r\n",
      "   Name of the model definition:APPOINTMENTSSHOWPREDECTION\r\n",
      "   Name of the trained model being validated:AppointmentsShowPredection2655694605153933\r\n",
      "   Validation error (if encountered):1\r\n",
      "\r\n",
      "\n"
     ]
    }
   ],
   "source": [
    "print(dbnative.classMethodValue(\"MyMetric.Install\", \"Test\", \"MyMetric.IntegratedMLModelsValidation\"))"
   ]
  },
  {
   "cell_type": "code",
   "execution_count": 88,
   "metadata": {},
   "outputs": [],
   "source": [
    "connection.close()"
   ]
  }
 ],
 "metadata": {
  "kernelspec": {
   "display_name": "Python 3",
   "language": "python",
   "name": "python3"
  },
  "language_info": {
   "codemirror_mode": {
    "name": "ipython",
    "version": 3
   },
   "file_extension": ".py",
   "mimetype": "text/x-python",
   "name": "python",
   "nbconvert_exporter": "python",
   "pygments_lexer": "ipython3",
   "version": "3.6.9"
  }
 },
 "nbformat": 4,
 "nbformat_minor": 2
}
